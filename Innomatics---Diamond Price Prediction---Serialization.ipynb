{
 "cells": [
  {
   "cell_type": "markdown",
   "id": "9445807c",
   "metadata": {},
   "source": [
    "## Diamond Price Prediction\n",
    "\n",
    "### Introduction\n",
    "Just like a human fingerprint, every diamond is unique. While most diamonds may externally look similar in terms of size and colour, there are a few parameters that differentiate one diamond from the other. The 4Cs of diamonds that are colour, clarity, carat, and cut play a prominent role in defining their beauty and radiance.\n",
    "\n",
    "Analyze diamonds by their cut, color, clarity, price, and other attributes. This classic dataset contains the prices and other attributes of almost 54,000 diamonds.\n",
    "\n",
    "### Dataset Information \n",
    "| VARIABLES | Description |\n",
    "| :--- | ---: |\n",
    "| price | price in US dollars (\\$326--\\$18,823) |\n",
    "| carat | weight of the diamond (0.2--5.01) |\n",
    "| cut | quality of the cut (Fair, Good, Very Good, Premium, Ideal) |\n",
    "| color | diamond colour, from J (worst) to D (best) |\n",
    "| clarity | a measurement of how clear the diamond is (I1 (worst), SI2, SI1, VS2, VS1, VVS2, VVS1, IF (best)) |\n",
    "| x | length in mm (0--10.74) |\n",
    "| y | width in mm (0--58.9) |\n",
    "| z | depth in mm (0--31.8) |\n",
    "| depth | total depth percentage = z / mean(x, y) = 2 * z / (x + y) (43--79) |\n",
    "| table | width of top of diamond relative to widest point (43--95) |\n",
    "\n",
    "\n",
    "The 4 C's of Diamond (Cut, Colour, Clarity, Carat)\n",
    "\n",
    "1. Colour : It refers to the natural tint present inside a diamond\n",
    "2. Carat : It is simply the weight/mass of a diamond\n",
    "3. Clarity : It indicates how free a diamond is from inclusions and blemishes\n",
    "4. Cut : It shows the quality of angles, facet proportions, and finishing details in a diamond\n",
    "\n",
    "\n",
    "Diamond Grading Chart:\n",
    "Let’s have a look at the grading system in detail!\n",
    "\n",
    "1. CUT\n",
    "The cut is undeniably one of the most important aspects of a diamond quality that is not affected by nature. It refers to the quality of symmetrical facets, angles, and proportions in a diamond. Further, a diamond’s sparkle, brilliance, fire, and scintillation depend heavily on the diamond’s cut. Also, a diamond’s cut determines its appearance and beauty. \n",
    " \n",
    "| Cut | Description |\n",
    "| :--- | :--- |\n",
    "| Excellent | A diamond with excellent cut grade offers maximum brilliance and fire. |\n",
    "| Very Good | Diamonds with this cut grade offer brilliance and fire somewhat less than the excellent cut grade. Moreover, it is comparatively less expensive than excellent cut diamonds.|\n",
    "| Good | Diamonds with a good cut grade offer average spark and brilliance. |\n",
    "| Fair | Fair-cut diamonds usually let the light escape from the sides or bottom thus, offering minimum sparkle. |\n",
    "| Poor | Poor cut diamonds appear dull and lifeless and offer no sparkle at all. |\n",
    "\n",
    "\n",
    "2. COLOUR\n",
    "The colour of a diamond refers to the slight shade present inside a diamond. Sometimes, some diamonds gain their colour during the process of refinement. For instance: the ‘lab-treated black diamonds’. Moreover, the more colourless a diamond is, the higher is its demand as so is its market value. \n",
    "\n",
    "| Colour | Description |\n",
    "| :--- | :--- |\n",
    "| D, E, F | Diamonds of colourless grade are considered as purest and rarest of all. They have a high demand in the market and command a good value. Further, they can be paired with almost every metal. |\n",
    "| G, H, I, J | This set of nearly colourless diamonds consists of a slight tint that is often imperceptible by a naked eye. |\n",
    "| K, L, M | This set of faint yellow-coloured diamonds consists of a perceptible yellow tint. |\n",
    "| N, O, P, Q, R | The most inexpensive diamonds of all, this set of very light yellow diamonds has a light yellow or a brown tint inside them. Moreover, they have a very low demand. |\n",
    "| S, T, U, V, W, X, Y, and Z | This set of light yellow coloured diamonds consists of a yellow hue and thus does not fit for a “white diamond”. |\n",
    "\n",
    "\n",
    "3. CLARITY\n",
    "In simple words, clarity refers to how free a diamond is from internal inclusions and blemishes. As a diamond is formed deep within the earth in response to extreme heat and pressure, it develops inclusions. These inclusions might be in the form of fractures, slight traces of minerals, or even uncrystallized carbon. Also, inclusions affect the way light refract and reflect on a diamond. Thus, scrutinizing the clarity of a diamond is necessary while purchasing it. \n",
    "\n",
    "| Clarity | Clarity 1 | Description |\n",
    "| :--- | :--- | ---:|\n",
    "| FL | Flawless\tExtremely | rare and valuable among all diamonds. Very few diamonds have the diamond clarity of FL. |\n",
    "| IF | Internally Flawless | Less than 3% of all diamonds have a clarity of IF. |\n",
    "| VVS1-VVS2 | Very Very Slightly Included(1 and 2) | Slightly included diamonds either on the pavilion or on the crown. |\n",
    "| VS1-VS2 | Very Slightly Included (1 and 2) | Inclusions are invisible to the naked eye. However, on close inspection, one can see the inclusions. |\n",
    "| SI1-SI2 | Slightly Included |\tThe diamonds with this clarity can reveal inclusions on close inspection. |\n",
    "| I1, I2, I3 | Included (1,2 and 3) | This set includes diamonds that are heavily included and often more prone to breakage. |\n",
    "\n",
    "4. CARAT \n",
    "Carat is the weight of a diamond (not the size of the diamond). In general, a one-carat diamond weighs 200 milligrams or 0.2 grams. Also, some diamonds lower in carats might look bigger due to their shape and cut. Thus, while buying a diamond, greater importance needs to be put on shape, colour, cut, and clarity than the carat. \n",
    "In general, as the carat of the diamond increases, its overall market value increases. This can be shown in the following table. \n",
    "\n",
    "\n",
    "| Diamond Carats | Price per carat* | Total Price |\n",
    "| :--- | :---: | :---: |\n",
    "| 1.0 carat | $2500 | $2500 |\n",
    "| 1.50 carat | $3500 | $5250 |\n",
    "| 2.0 carat | $4200 | $8400 |\n",
    "| 3.0 carat | $7500 | $15000 |\n",
    "| *The prices given are hypothetical.|\n",
    "\n"
   ]
  },
  {
   "cell_type": "markdown",
   "id": "828859d6",
   "metadata": {},
   "source": [
    "#### Importing Libraries"
   ]
  },
  {
   "cell_type": "code",
   "execution_count": 1,
   "id": "c9edc907",
   "metadata": {},
   "outputs": [],
   "source": [
    "# Importing Libraries\n",
    "import pandas as pd\n",
    "import numpy as np\n",
    "import matplotlib.pyplot as plt\n",
    "import seaborn as sns\n",
    "\n",
    "import warnings\n",
    "warnings.filterwarnings('ignore')\n",
    "\n",
    "pd.set_option('display.max_columns', None)\n",
    "\n",
    "\n",
    "\n",
    "from sklearn.preprocessing import LabelEncoder\n",
    "from sklearn.model_selection import train_test_split\n",
    "from sklearn.preprocessing import StandardScaler\n",
    "from sklearn.tree import DecisionTreeRegressor\n",
    "from sklearn.ensemble import RandomForestRegressor\n",
    "from sklearn.linear_model import LinearRegression\n",
    "from xgboost import XGBRegressor\n",
    "from sklearn.neighbors import KNeighborsRegressor\n",
    "from sklearn import metrics\n",
    "# from sklearn.model_selection import cross_val_score\n",
    "from sklearn.metrics import mean_squared_error"
   ]
  },
  {
   "cell_type": "markdown",
   "id": "bc790726",
   "metadata": {},
   "source": [
    "#### Loading the Dataset"
   ]
  },
  {
   "cell_type": "code",
   "execution_count": 2,
   "id": "c79533d9",
   "metadata": {},
   "outputs": [
    {
     "data": {
      "text/html": [
       "<div>\n",
       "<style scoped>\n",
       "    .dataframe tbody tr th:only-of-type {\n",
       "        vertical-align: middle;\n",
       "    }\n",
       "\n",
       "    .dataframe tbody tr th {\n",
       "        vertical-align: top;\n",
       "    }\n",
       "\n",
       "    .dataframe thead th {\n",
       "        text-align: right;\n",
       "    }\n",
       "</style>\n",
       "<table border=\"1\" class=\"dataframe\">\n",
       "  <thead>\n",
       "    <tr style=\"text-align: right;\">\n",
       "      <th></th>\n",
       "      <th>Unnamed: 0</th>\n",
       "      <th>carat</th>\n",
       "      <th>cut</th>\n",
       "      <th>color</th>\n",
       "      <th>clarity</th>\n",
       "      <th>depth</th>\n",
       "      <th>table</th>\n",
       "      <th>price</th>\n",
       "      <th>x</th>\n",
       "      <th>y</th>\n",
       "      <th>z</th>\n",
       "    </tr>\n",
       "  </thead>\n",
       "  <tbody>\n",
       "    <tr>\n",
       "      <th>0</th>\n",
       "      <td>1</td>\n",
       "      <td>0.23</td>\n",
       "      <td>Ideal</td>\n",
       "      <td>E</td>\n",
       "      <td>SI2</td>\n",
       "      <td>61.5</td>\n",
       "      <td>55.0</td>\n",
       "      <td>326</td>\n",
       "      <td>3.95</td>\n",
       "      <td>3.98</td>\n",
       "      <td>2.43</td>\n",
       "    </tr>\n",
       "    <tr>\n",
       "      <th>1</th>\n",
       "      <td>2</td>\n",
       "      <td>0.21</td>\n",
       "      <td>Premium</td>\n",
       "      <td>E</td>\n",
       "      <td>SI1</td>\n",
       "      <td>59.8</td>\n",
       "      <td>61.0</td>\n",
       "      <td>326</td>\n",
       "      <td>3.89</td>\n",
       "      <td>3.84</td>\n",
       "      <td>2.31</td>\n",
       "    </tr>\n",
       "    <tr>\n",
       "      <th>2</th>\n",
       "      <td>3</td>\n",
       "      <td>0.23</td>\n",
       "      <td>Good</td>\n",
       "      <td>E</td>\n",
       "      <td>VS1</td>\n",
       "      <td>56.9</td>\n",
       "      <td>65.0</td>\n",
       "      <td>327</td>\n",
       "      <td>4.05</td>\n",
       "      <td>4.07</td>\n",
       "      <td>2.31</td>\n",
       "    </tr>\n",
       "    <tr>\n",
       "      <th>3</th>\n",
       "      <td>4</td>\n",
       "      <td>0.29</td>\n",
       "      <td>Premium</td>\n",
       "      <td>I</td>\n",
       "      <td>VS2</td>\n",
       "      <td>62.4</td>\n",
       "      <td>58.0</td>\n",
       "      <td>334</td>\n",
       "      <td>4.20</td>\n",
       "      <td>4.23</td>\n",
       "      <td>2.63</td>\n",
       "    </tr>\n",
       "    <tr>\n",
       "      <th>4</th>\n",
       "      <td>5</td>\n",
       "      <td>0.31</td>\n",
       "      <td>Good</td>\n",
       "      <td>J</td>\n",
       "      <td>SI2</td>\n",
       "      <td>63.3</td>\n",
       "      <td>58.0</td>\n",
       "      <td>335</td>\n",
       "      <td>4.34</td>\n",
       "      <td>4.35</td>\n",
       "      <td>2.75</td>\n",
       "    </tr>\n",
       "  </tbody>\n",
       "</table>\n",
       "</div>"
      ],
      "text/plain": [
       "   Unnamed: 0  carat      cut color clarity  depth  table  price     x     y  \\\n",
       "0           1   0.23    Ideal     E     SI2   61.5   55.0    326  3.95  3.98   \n",
       "1           2   0.21  Premium     E     SI1   59.8   61.0    326  3.89  3.84   \n",
       "2           3   0.23     Good     E     VS1   56.9   65.0    327  4.05  4.07   \n",
       "3           4   0.29  Premium     I     VS2   62.4   58.0    334  4.20  4.23   \n",
       "4           5   0.31     Good     J     SI2   63.3   58.0    335  4.34  4.35   \n",
       "\n",
       "      z  \n",
       "0  2.43  \n",
       "1  2.31  \n",
       "2  2.31  \n",
       "3  2.63  \n",
       "4  2.75  "
      ]
     },
     "execution_count": 2,
     "metadata": {},
     "output_type": "execute_result"
    }
   ],
   "source": [
    "df = pd.read_csv(r'F:\\Priya\\Courses\\Innomatics\\ML amd MLOPs Tasks\\Task 1 MLOPs\\diamonds.csv')\n",
    "df.head()"
   ]
  },
  {
   "cell_type": "markdown",
   "id": "32cf8443",
   "metadata": {},
   "source": [
    "#### Data Pre-Processing"
   ]
  },
  {
   "cell_type": "code",
   "execution_count": 3,
   "id": "8b18e618",
   "metadata": {},
   "outputs": [
    {
     "data": {
      "text/html": [
       "<div>\n",
       "<style scoped>\n",
       "    .dataframe tbody tr th:only-of-type {\n",
       "        vertical-align: middle;\n",
       "    }\n",
       "\n",
       "    .dataframe tbody tr th {\n",
       "        vertical-align: top;\n",
       "    }\n",
       "\n",
       "    .dataframe thead th {\n",
       "        text-align: right;\n",
       "    }\n",
       "</style>\n",
       "<table border=\"1\" class=\"dataframe\">\n",
       "  <thead>\n",
       "    <tr style=\"text-align: right;\">\n",
       "      <th></th>\n",
       "      <th>carat</th>\n",
       "      <th>cut</th>\n",
       "      <th>color</th>\n",
       "      <th>clarity</th>\n",
       "      <th>depth</th>\n",
       "      <th>table</th>\n",
       "      <th>price</th>\n",
       "      <th>x</th>\n",
       "      <th>y</th>\n",
       "      <th>z</th>\n",
       "    </tr>\n",
       "  </thead>\n",
       "  <tbody>\n",
       "    <tr>\n",
       "      <th>0</th>\n",
       "      <td>0.23</td>\n",
       "      <td>Ideal</td>\n",
       "      <td>E</td>\n",
       "      <td>SI2</td>\n",
       "      <td>61.5</td>\n",
       "      <td>55.0</td>\n",
       "      <td>326</td>\n",
       "      <td>3.95</td>\n",
       "      <td>3.98</td>\n",
       "      <td>2.43</td>\n",
       "    </tr>\n",
       "    <tr>\n",
       "      <th>1</th>\n",
       "      <td>0.21</td>\n",
       "      <td>Premium</td>\n",
       "      <td>E</td>\n",
       "      <td>SI1</td>\n",
       "      <td>59.8</td>\n",
       "      <td>61.0</td>\n",
       "      <td>326</td>\n",
       "      <td>3.89</td>\n",
       "      <td>3.84</td>\n",
       "      <td>2.31</td>\n",
       "    </tr>\n",
       "    <tr>\n",
       "      <th>2</th>\n",
       "      <td>0.23</td>\n",
       "      <td>Good</td>\n",
       "      <td>E</td>\n",
       "      <td>VS1</td>\n",
       "      <td>56.9</td>\n",
       "      <td>65.0</td>\n",
       "      <td>327</td>\n",
       "      <td>4.05</td>\n",
       "      <td>4.07</td>\n",
       "      <td>2.31</td>\n",
       "    </tr>\n",
       "  </tbody>\n",
       "</table>\n",
       "</div>"
      ],
      "text/plain": [
       "   carat      cut color clarity  depth  table  price     x     y     z\n",
       "0   0.23    Ideal     E     SI2   61.5   55.0    326  3.95  3.98  2.43\n",
       "1   0.21  Premium     E     SI1   59.8   61.0    326  3.89  3.84  2.31\n",
       "2   0.23     Good     E     VS1   56.9   65.0    327  4.05  4.07  2.31"
      ]
     },
     "execution_count": 3,
     "metadata": {},
     "output_type": "execute_result"
    }
   ],
   "source": [
    "df1=df.copy()\n",
    "df1= df1.drop(['Unnamed: 0'], axis = 1)\n",
    "df1.head(3)"
   ]
  },
  {
   "cell_type": "code",
   "execution_count": 4,
   "id": "7ac24fd9",
   "metadata": {},
   "outputs": [
    {
     "data": {
      "text/plain": [
       "(53940, 10)"
      ]
     },
     "execution_count": 4,
     "metadata": {},
     "output_type": "execute_result"
    }
   ],
   "source": [
    "df1.shape"
   ]
  },
  {
   "cell_type": "code",
   "execution_count": 5,
   "id": "3ad5ddfa",
   "metadata": {},
   "outputs": [
    {
     "name": "stdout",
     "output_type": "stream",
     "text": [
      "<class 'pandas.core.frame.DataFrame'>\n",
      "RangeIndex: 53940 entries, 0 to 53939\n",
      "Data columns (total 10 columns):\n",
      " #   Column   Non-Null Count  Dtype  \n",
      "---  ------   --------------  -----  \n",
      " 0   carat    53940 non-null  float64\n",
      " 1   cut      53940 non-null  object \n",
      " 2   color    53940 non-null  object \n",
      " 3   clarity  53940 non-null  object \n",
      " 4   depth    53940 non-null  float64\n",
      " 5   table    53940 non-null  float64\n",
      " 6   price    53940 non-null  int64  \n",
      " 7   x        53940 non-null  float64\n",
      " 8   y        53940 non-null  float64\n",
      " 9   z        53940 non-null  float64\n",
      "dtypes: float64(6), int64(1), object(3)\n",
      "memory usage: 4.1+ MB\n"
     ]
    }
   ],
   "source": [
    "df1.info()"
   ]
  },
  {
   "cell_type": "markdown",
   "id": "45b4750f",
   "metadata": {},
   "source": [
    "#### Renaming Columns"
   ]
  },
  {
   "cell_type": "code",
   "execution_count": 6,
   "id": "eea53289",
   "metadata": {},
   "outputs": [
    {
     "data": {
      "text/html": [
       "<div>\n",
       "<style scoped>\n",
       "    .dataframe tbody tr th:only-of-type {\n",
       "        vertical-align: middle;\n",
       "    }\n",
       "\n",
       "    .dataframe tbody tr th {\n",
       "        vertical-align: top;\n",
       "    }\n",
       "\n",
       "    .dataframe thead th {\n",
       "        text-align: right;\n",
       "    }\n",
       "</style>\n",
       "<table border=\"1\" class=\"dataframe\">\n",
       "  <thead>\n",
       "    <tr style=\"text-align: right;\">\n",
       "      <th></th>\n",
       "      <th>carat</th>\n",
       "      <th>cut</th>\n",
       "      <th>color</th>\n",
       "      <th>clarity</th>\n",
       "      <th>depth_percent</th>\n",
       "      <th>table</th>\n",
       "      <th>price</th>\n",
       "      <th>length</th>\n",
       "      <th>width</th>\n",
       "      <th>depth</th>\n",
       "    </tr>\n",
       "  </thead>\n",
       "  <tbody>\n",
       "    <tr>\n",
       "      <th>0</th>\n",
       "      <td>0.23</td>\n",
       "      <td>Ideal</td>\n",
       "      <td>E</td>\n",
       "      <td>SI2</td>\n",
       "      <td>61.5</td>\n",
       "      <td>55.0</td>\n",
       "      <td>326</td>\n",
       "      <td>3.95</td>\n",
       "      <td>3.98</td>\n",
       "      <td>2.43</td>\n",
       "    </tr>\n",
       "    <tr>\n",
       "      <th>1</th>\n",
       "      <td>0.21</td>\n",
       "      <td>Premium</td>\n",
       "      <td>E</td>\n",
       "      <td>SI1</td>\n",
       "      <td>59.8</td>\n",
       "      <td>61.0</td>\n",
       "      <td>326</td>\n",
       "      <td>3.89</td>\n",
       "      <td>3.84</td>\n",
       "      <td>2.31</td>\n",
       "    </tr>\n",
       "    <tr>\n",
       "      <th>2</th>\n",
       "      <td>0.23</td>\n",
       "      <td>Good</td>\n",
       "      <td>E</td>\n",
       "      <td>VS1</td>\n",
       "      <td>56.9</td>\n",
       "      <td>65.0</td>\n",
       "      <td>327</td>\n",
       "      <td>4.05</td>\n",
       "      <td>4.07</td>\n",
       "      <td>2.31</td>\n",
       "    </tr>\n",
       "  </tbody>\n",
       "</table>\n",
       "</div>"
      ],
      "text/plain": [
       "   carat      cut color clarity  depth_percent  table  price  length  width  \\\n",
       "0   0.23    Ideal     E     SI2           61.5   55.0    326    3.95   3.98   \n",
       "1   0.21  Premium     E     SI1           59.8   61.0    326    3.89   3.84   \n",
       "2   0.23     Good     E     VS1           56.9   65.0    327    4.05   4.07   \n",
       "\n",
       "   depth  \n",
       "0   2.43  \n",
       "1   2.31  \n",
       "2   2.31  "
      ]
     },
     "execution_count": 6,
     "metadata": {},
     "output_type": "execute_result"
    }
   ],
   "source": [
    "df1 = df1.rename(columns={'depth':'depth_percent', 'x':'length', 'y':'width', 'z':'depth'})\n",
    "df1.head(3)"
   ]
  },
  {
   "cell_type": "code",
   "execution_count": 7,
   "id": "7adabca0",
   "metadata": {},
   "outputs": [
    {
     "data": {
      "text/plain": [
       "carat            0\n",
       "cut              0\n",
       "color            0\n",
       "clarity          0\n",
       "depth_percent    0\n",
       "table            0\n",
       "price            0\n",
       "length           0\n",
       "width            0\n",
       "depth            0\n",
       "dtype: int64"
      ]
     },
     "execution_count": 7,
     "metadata": {},
     "output_type": "execute_result"
    }
   ],
   "source": [
    "df1.isnull().sum()"
   ]
  },
  {
   "cell_type": "code",
   "execution_count": 8,
   "id": "ea45790a",
   "metadata": {},
   "outputs": [
    {
     "data": {
      "text/html": [
       "<div>\n",
       "<style scoped>\n",
       "    .dataframe tbody tr th:only-of-type {\n",
       "        vertical-align: middle;\n",
       "    }\n",
       "\n",
       "    .dataframe tbody tr th {\n",
       "        vertical-align: top;\n",
       "    }\n",
       "\n",
       "    .dataframe thead th {\n",
       "        text-align: right;\n",
       "    }\n",
       "</style>\n",
       "<table border=\"1\" class=\"dataframe\">\n",
       "  <thead>\n",
       "    <tr style=\"text-align: right;\">\n",
       "      <th></th>\n",
       "      <th>carat</th>\n",
       "      <th>cut</th>\n",
       "      <th>color</th>\n",
       "      <th>clarity</th>\n",
       "      <th>depth_percent</th>\n",
       "      <th>table</th>\n",
       "      <th>price</th>\n",
       "      <th>length</th>\n",
       "      <th>width</th>\n",
       "      <th>depth</th>\n",
       "    </tr>\n",
       "  </thead>\n",
       "  <tbody>\n",
       "    <tr>\n",
       "      <th>0</th>\n",
       "      <td>0.23</td>\n",
       "      <td>Ideal</td>\n",
       "      <td>E</td>\n",
       "      <td>SI2</td>\n",
       "      <td>61.5</td>\n",
       "      <td>55.0</td>\n",
       "      <td>326</td>\n",
       "      <td>3.95</td>\n",
       "      <td>3.98</td>\n",
       "      <td>2.43</td>\n",
       "    </tr>\n",
       "    <tr>\n",
       "      <th>1</th>\n",
       "      <td>0.21</td>\n",
       "      <td>Premium</td>\n",
       "      <td>E</td>\n",
       "      <td>SI1</td>\n",
       "      <td>59.8</td>\n",
       "      <td>61.0</td>\n",
       "      <td>326</td>\n",
       "      <td>3.89</td>\n",
       "      <td>3.84</td>\n",
       "      <td>2.31</td>\n",
       "    </tr>\n",
       "    <tr>\n",
       "      <th>2</th>\n",
       "      <td>0.23</td>\n",
       "      <td>Good</td>\n",
       "      <td>E</td>\n",
       "      <td>VS1</td>\n",
       "      <td>56.9</td>\n",
       "      <td>65.0</td>\n",
       "      <td>327</td>\n",
       "      <td>4.05</td>\n",
       "      <td>4.07</td>\n",
       "      <td>2.31</td>\n",
       "    </tr>\n",
       "  </tbody>\n",
       "</table>\n",
       "</div>"
      ],
      "text/plain": [
       "   carat      cut color clarity  depth_percent  table  price  length  width  \\\n",
       "0   0.23    Ideal     E     SI2           61.5   55.0    326    3.95   3.98   \n",
       "1   0.21  Premium     E     SI1           59.8   61.0    326    3.89   3.84   \n",
       "2   0.23     Good     E     VS1           56.9   65.0    327    4.05   4.07   \n",
       "\n",
       "   depth  \n",
       "0   2.43  \n",
       "1   2.31  \n",
       "2   2.31  "
      ]
     },
     "execution_count": 8,
     "metadata": {},
     "output_type": "execute_result"
    }
   ],
   "source": [
    "df1 = df1.drop(df1[(df1['length']==0) & (df1['width']==0) & (df1['depth']==0)].index)\n",
    "df1.head(3)"
   ]
  },
  {
   "cell_type": "code",
   "execution_count": 9,
   "id": "b9d1c202",
   "metadata": {},
   "outputs": [],
   "source": [
    "df1 = df1.drop(df1[df1['length']==0].index)\n",
    "df1 = df1.drop(df1[df1['width']==0].index)\n",
    "df1 = df1.drop(df1[df1['depth']==0].index)"
   ]
  },
  {
   "cell_type": "code",
   "execution_count": 10,
   "id": "ac4296a4",
   "metadata": {},
   "outputs": [
    {
     "data": {
      "text/plain": [
       "(53920, 10)"
      ]
     },
     "execution_count": 10,
     "metadata": {},
     "output_type": "execute_result"
    }
   ],
   "source": [
    "df1.shape"
   ]
  },
  {
   "cell_type": "code",
   "execution_count": 11,
   "id": "3ba02f2c",
   "metadata": {
    "scrolled": true
   },
   "outputs": [
    {
     "data": {
      "text/html": [
       "<div>\n",
       "<style scoped>\n",
       "    .dataframe tbody tr th:only-of-type {\n",
       "        vertical-align: middle;\n",
       "    }\n",
       "\n",
       "    .dataframe tbody tr th {\n",
       "        vertical-align: top;\n",
       "    }\n",
       "\n",
       "    .dataframe thead th {\n",
       "        text-align: right;\n",
       "    }\n",
       "</style>\n",
       "<table border=\"1\" class=\"dataframe\">\n",
       "  <thead>\n",
       "    <tr style=\"text-align: right;\">\n",
       "      <th></th>\n",
       "      <th>carat</th>\n",
       "      <th>depth_percent</th>\n",
       "      <th>table</th>\n",
       "      <th>price</th>\n",
       "      <th>length</th>\n",
       "      <th>width</th>\n",
       "      <th>depth</th>\n",
       "    </tr>\n",
       "  </thead>\n",
       "  <tbody>\n",
       "    <tr>\n",
       "      <th>count</th>\n",
       "      <td>53920.000000</td>\n",
       "      <td>53920.000000</td>\n",
       "      <td>53920.000000</td>\n",
       "      <td>53920.000000</td>\n",
       "      <td>53920.000000</td>\n",
       "      <td>53920.000000</td>\n",
       "      <td>53920.000000</td>\n",
       "    </tr>\n",
       "    <tr>\n",
       "      <th>mean</th>\n",
       "      <td>0.797698</td>\n",
       "      <td>61.749514</td>\n",
       "      <td>57.456834</td>\n",
       "      <td>3930.993231</td>\n",
       "      <td>5.731627</td>\n",
       "      <td>5.734887</td>\n",
       "      <td>3.540046</td>\n",
       "    </tr>\n",
       "    <tr>\n",
       "      <th>std</th>\n",
       "      <td>0.473795</td>\n",
       "      <td>1.432331</td>\n",
       "      <td>2.234064</td>\n",
       "      <td>3987.280446</td>\n",
       "      <td>1.119423</td>\n",
       "      <td>1.140126</td>\n",
       "      <td>0.702530</td>\n",
       "    </tr>\n",
       "    <tr>\n",
       "      <th>min</th>\n",
       "      <td>0.200000</td>\n",
       "      <td>43.000000</td>\n",
       "      <td>43.000000</td>\n",
       "      <td>326.000000</td>\n",
       "      <td>3.730000</td>\n",
       "      <td>3.680000</td>\n",
       "      <td>1.070000</td>\n",
       "    </tr>\n",
       "    <tr>\n",
       "      <th>25%</th>\n",
       "      <td>0.400000</td>\n",
       "      <td>61.000000</td>\n",
       "      <td>56.000000</td>\n",
       "      <td>949.000000</td>\n",
       "      <td>4.710000</td>\n",
       "      <td>4.720000</td>\n",
       "      <td>2.910000</td>\n",
       "    </tr>\n",
       "    <tr>\n",
       "      <th>50%</th>\n",
       "      <td>0.700000</td>\n",
       "      <td>61.800000</td>\n",
       "      <td>57.000000</td>\n",
       "      <td>2401.000000</td>\n",
       "      <td>5.700000</td>\n",
       "      <td>5.710000</td>\n",
       "      <td>3.530000</td>\n",
       "    </tr>\n",
       "    <tr>\n",
       "      <th>75%</th>\n",
       "      <td>1.040000</td>\n",
       "      <td>62.500000</td>\n",
       "      <td>59.000000</td>\n",
       "      <td>5323.250000</td>\n",
       "      <td>6.540000</td>\n",
       "      <td>6.540000</td>\n",
       "      <td>4.040000</td>\n",
       "    </tr>\n",
       "    <tr>\n",
       "      <th>max</th>\n",
       "      <td>5.010000</td>\n",
       "      <td>79.000000</td>\n",
       "      <td>95.000000</td>\n",
       "      <td>18823.000000</td>\n",
       "      <td>10.740000</td>\n",
       "      <td>58.900000</td>\n",
       "      <td>31.800000</td>\n",
       "    </tr>\n",
       "  </tbody>\n",
       "</table>\n",
       "</div>"
      ],
      "text/plain": [
       "              carat  depth_percent         table         price        length  \\\n",
       "count  53920.000000   53920.000000  53920.000000  53920.000000  53920.000000   \n",
       "mean       0.797698      61.749514     57.456834   3930.993231      5.731627   \n",
       "std        0.473795       1.432331      2.234064   3987.280446      1.119423   \n",
       "min        0.200000      43.000000     43.000000    326.000000      3.730000   \n",
       "25%        0.400000      61.000000     56.000000    949.000000      4.710000   \n",
       "50%        0.700000      61.800000     57.000000   2401.000000      5.700000   \n",
       "75%        1.040000      62.500000     59.000000   5323.250000      6.540000   \n",
       "max        5.010000      79.000000     95.000000  18823.000000     10.740000   \n",
       "\n",
       "              width         depth  \n",
       "count  53920.000000  53920.000000  \n",
       "mean       5.734887      3.540046  \n",
       "std        1.140126      0.702530  \n",
       "min        3.680000      1.070000  \n",
       "25%        4.720000      2.910000  \n",
       "50%        5.710000      3.530000  \n",
       "75%        6.540000      4.040000  \n",
       "max       58.900000     31.800000  "
      ]
     },
     "execution_count": 11,
     "metadata": {},
     "output_type": "execute_result"
    }
   ],
   "source": [
    "df1.describe()"
   ]
  },
  {
   "cell_type": "markdown",
   "id": "2c192e6b",
   "metadata": {},
   "source": [
    "#### Outliers"
   ]
  },
  {
   "cell_type": "code",
   "execution_count": 12,
   "id": "03708118",
   "metadata": {},
   "outputs": [
    {
     "data": {
      "image/png": "[encoded data removed]",
      "text/plain": [
       "<Figure size 432x216 with 1 Axes>"
      ]
     },
     "metadata": {
      "needs_background": "light"
     },
     "output_type": "display_data"
    }
   ],
   "source": [
    "plt.figure(figsize=(6, 3))\n",
    "df1.carat.plot.box(vert=False)\n",
    "plt.show()"
   ]
  },
  {
   "cell_type": "code",
   "execution_count": 13,
   "id": "32e52245",
   "metadata": {},
   "outputs": [
    {
     "data": {
      "image/png": "[encoded data removed]",
      "text/plain": [
       "<Figure size 504x216 with 1 Axes>"
      ]
     },
     "metadata": {
      "needs_background": "light"
     },
     "output_type": "display_data"
    }
   ],
   "source": [
    "plt.figure(figsize=(7, 3))\n",
    "df1.depth_percent.plot.box(vert=False)\n",
    "plt.show()"
   ]
  },
  {
   "cell_type": "code",
   "execution_count": 14,
   "id": "4318f7ef",
   "metadata": {},
   "outputs": [
    {
     "data": {
      "image/png": "[encoded data removed]",
      "text/plain": [
       "<Figure size 720x216 with 1 Axes>"
      ]
     },
     "metadata": {
      "needs_background": "light"
     },
     "output_type": "display_data"
    }
   ],
   "source": [
    "plt.figure(figsize=(10, 3))\n",
    "df1.price.plot.box(vert=False)\n",
    "plt.show()"
   ]
  },
  {
   "cell_type": "code",
   "execution_count": 15,
   "id": "6be404d5",
   "metadata": {},
   "outputs": [
    {
     "data": {
      "image/png": "[encoded data removed]",
      "text/plain": [
       "<Figure size 720x216 with 1 Axes>"
      ]
     },
     "metadata": {
      "needs_background": "light"
     },
     "output_type": "display_data"
    }
   ],
   "source": [
    "plt.figure(figsize=(10, 3))\n",
    "df1.table.plot.box(vert=False)\n",
    "plt.show()"
   ]
  },
  {
   "cell_type": "code",
   "execution_count": 16,
   "id": "84b5d8e5",
   "metadata": {},
   "outputs": [
    {
     "data": {
      "text/plain": [
       "<AxesSubplot:>"
      ]
     },
     "execution_count": 16,
     "metadata": {},
     "output_type": "execute_result"
    },
    {
     "data": {
      "image/png": "[encoded data removed]",
      "text/plain": [
       "<Figure size 1080x360 with 1 Axes>"
      ]
     },
     "metadata": {
      "needs_background": "light"
     },
     "output_type": "display_data"
    }
   ],
   "source": [
    "plt.figure(figsize=(15, 5))\n",
    "boxplot_df1 = pd.DataFrame(data = df1, columns = ['length', 'width', 'depth'])\n",
    "boxplot_df1.boxplot(vert=False)"
   ]
  },
  {
   "cell_type": "markdown",
   "id": "3a8ead60",
   "metadata": {},
   "source": [
    "#### Removing Outliers"
   ]
  },
  {
   "cell_type": "code",
   "execution_count": 17,
   "id": "23d0f2a2",
   "metadata": {},
   "outputs": [],
   "source": [
    "df1 = df1[(df1['depth_percent']<70) & (df1['depth_percent']>55)]\n",
    "df1 = df1[(df1['table']<75) & (df1['table']>40)]\n",
    "df1 = df1[(df1['length']<30)]\n",
    "df1 = df1[(df1['width']<30)]\n",
    "df1 = df1[(df1['depth']<30) & (df1['depth']>2)]"
   ]
  },
  {
   "cell_type": "markdown",
   "id": "0e46111f",
   "metadata": {},
   "source": [
    "#### EDA"
   ]
  },
  {
   "cell_type": "markdown",
   "id": "9b7e976f",
   "metadata": {},
   "source": [
    "##### Univariate Analysis"
   ]
  },
  {
   "cell_type": "code",
   "execution_count": 18,
   "id": "5d1987e1",
   "metadata": {},
   "outputs": [
    {
     "data": {
      "image/png": "[encoded data removed]",
      "text/plain": [
       "<Figure size 1440x720 with 9 Axes>"
      ]
     },
     "metadata": {
      "needs_background": "light"
     },
     "output_type": "display_data"
    }
   ],
   "source": [
    "df1.hist(column=['carat',\"length\", \"width\", 'depth', 'depth_percent', 'table', 'price'], color = 'blue', alpha=0.5, edgecolor='black', figsize = (20, 10))\n",
    "plt.show()"
   ]
  },
  {
   "cell_type": "code",
   "execution_count": 19,
   "id": "8e2b4462",
   "metadata": {},
   "outputs": [
    {
     "data": {
      "image/png": "[encoded data removed]",
      "text/plain": [
       "<Figure size 1080x360 with 3 Axes>"
      ]
     },
     "metadata": {
      "needs_background": "light"
     },
     "output_type": "display_data"
    }
   ],
   "source": [
    "fig, ax =plt.subplots(1,3, figsize=(15, 5), sharey=True)\n",
    "\n",
    "ax[0].set_title('Diamond count based on Cut')\n",
    "ax[1].set_title('Diamond count based on Color')\n",
    "ax[2].set_title('Diamond count based on Clarity')\n",
    "\n",
    "ax[0] = sns.countplot(df1['cut'], ax=ax[0], palette='Pastel1', edgecolor = 'black')\n",
    "for p in ax[0].patches:\n",
    "    ax[0].annotate(str(p.get_height()), (p.get_x() * 1.005, p.get_height() * 1.005))\n",
    "\n",
    "ax[1] = sns.countplot(df1['color'], ax=ax[1], palette='Pastel2', edgecolor = 'black')\n",
    "for p in ax[1].patches:\n",
    "    ax[1].annotate(str(p.get_height()), (p.get_x() * 1.005, p.get_height() * 1.005))\n",
    "\n",
    "ax[2] = sns.countplot(df1['clarity'], ax=ax[2], palette='Pastel1_r', edgecolor = 'black')\n",
    "for p in ax[2].patches:\n",
    "    ax[2].annotate(str(p.get_height()), (p.get_x() * 1.005, p.get_height() * 1.005))\n",
    "\n",
    "fig.show()"
   ]
  },
  {
   "cell_type": "code",
   "execution_count": 20,
   "id": "4626c0cd",
   "metadata": {},
   "outputs": [
    {
     "data": {
      "image/png": "[encoded data removed]",
      "text/plain": [
       "<Figure size 1080x360 with 3 Axes>"
      ]
     },
     "metadata": {},
     "output_type": "display_data"
    }
   ],
   "source": [
    "fig, (ax0, ax1, ax2) =plt.subplots(ncols=3, figsize=(15, 5))\n",
    "\n",
    "ax0.set_title('Diamond count based on Cut')\n",
    "ax1.set_title('Diamond count based on Color')\n",
    "ax2.set_title('Diamond count based on Clarity')\n",
    "\n",
    "colors = ['#ff9999','#66b3ff','#99ff99','#ffcc99', '#ff6666', '#c2c2f0', '#ffb3e6', '#4F6272', '#B7C3F3', '#DD7596', '#8EB897']\n",
    "\n",
    "df1.cut.value_counts().plot(kind = 'pie', colors=colors, autopct = '%.2f', ax=ax0, labeldistance=1.15, wedgeprops = { 'linewidth' : 3, 'edgecolor' : 'white' })\n",
    "df1.color.value_counts().plot(kind = 'pie', colors=colors, autopct = '%.2f', ax=ax1, labeldistance=1.15, wedgeprops = { 'linewidth' : 3, 'edgecolor' : 'white' })\n",
    "df1.clarity.value_counts().plot(kind = 'pie',colors=colors, autopct = '%.2f', ax=ax2, labeldistance=1.15, wedgeprops = { 'linewidth' : 3, 'edgecolor' : 'white' })\n",
    "fig.show()"
   ]
  },
  {
   "cell_type": "markdown",
   "id": "2a4bced8",
   "metadata": {},
   "source": [
    "##### Bivariate Analysis"
   ]
  },
  {
   "cell_type": "markdown",
   "id": "4b322249",
   "metadata": {},
   "source": [
    "1. Categorical Vs Numerical Columns"
   ]
  },
  {
   "cell_type": "code",
   "execution_count": 21,
   "id": "40046619",
   "metadata": {},
   "outputs": [
    {
     "data": {
      "image/png": "[encoded data removed]",
      "text/plain": [
       "<Figure size 1440x360 with 3 Axes>"
      ]
     },
     "metadata": {
      "needs_background": "light"
     },
     "output_type": "display_data"
    }
   ],
   "source": [
    "fig, axes = plt.subplots(1, 3, sharey=True, figsize=(20,5))\n",
    "fig.suptitle('Price Vs Cut, Color, Clarity')\n",
    "axes[0].set_title('Price Vs Cut')\n",
    "axes[1].set_title('Price Vs Color')\n",
    "axes[2].set_title('Price Vs Clarity')\n",
    "\n",
    "ax = sns.barplot(data = df1, x='cut', y='price', ax=axes[0], palette='spring', edgecolor ='black', ci=None)\n",
    "for i in ax.containers:\n",
    "    ax.bar_label(i,)\n",
    "\n",
    "ax = sns.barplot(data = df1, x='color', y='price', ax=axes[1], palette='summer', edgecolor ='black', ci=None)\n",
    "for i in ax.containers:\n",
    "    ax.bar_label(i,)\n",
    "\n",
    "ax = sns.barplot(data = df1, x='clarity', y='price', ax=axes[2], palette='autumn', edgecolor ='black', ci=None)\n",
    "for i in ax.containers:\n",
    "    ax.bar_label(i,)\n",
    "\n",
    "axes[0].set_xlabel('cut')\n",
    "axes[0].set_xticklabels(axes[0].get_xticklabels(), rotation=0)\n",
    "# plt.xticks(rotation=90)\n",
    "# axes[0].set_xticks(45)\n",
    "axes[1].set_xlabel('color')\n",
    "axes[1].set_xticklabels(axes[1].get_xticklabels(), rotation=0)\n",
    "# plt.xticks(rotation=90)\n",
    "# axes[1].set_xticks(90)\n",
    "axes[2].set_xlabel('clarity')\n",
    "axes[2].set_xticklabels(axes[2].get_xticklabels(), rotation=0)\n",
    "\n",
    "plt.show()"
   ]
  },
  {
   "cell_type": "code",
   "execution_count": 22,
   "id": "1c59fe61",
   "metadata": {},
   "outputs": [],
   "source": [
    "# df1[['length', 'width', 'depth']].plot(kind='hist', bins=25, alpha=0.6, figsize=(15,6))"
   ]
  },
  {
   "cell_type": "code",
   "execution_count": 23,
   "id": "7b4c39fb",
   "metadata": {},
   "outputs": [
    {
     "data": {
      "image/png": "[encoded data removed]",
      "text/plain": [
       "<Figure size 1080x720 with 6 Axes>"
      ]
     },
     "metadata": {
      "needs_background": "light"
     },
     "output_type": "display_data"
    }
   ],
   "source": [
    "df1.hist(column = 'price', by = 'cut', alpha=0.5, color = 'yellow', edgecolor='black', figsize = (15, 10))\n",
    "plt.show()"
   ]
  },
  {
   "cell_type": "code",
   "execution_count": 24,
   "id": "58aa81f1",
   "metadata": {},
   "outputs": [
    {
     "data": {
      "image/png": "[encoded data removed]",
      "text/plain": [
       "<Figure size 1080x720 with 9 Axes>"
      ]
     },
     "metadata": {
      "needs_background": "light"
     },
     "output_type": "display_data"
    }
   ],
   "source": [
    "df1.hist(column = 'price', by = 'color', alpha=0.5, color = 'green', edgecolor='black', figsize = (15, 10))\n",
    "plt.show()"
   ]
  },
  {
   "cell_type": "code",
   "execution_count": 25,
   "id": "0f3a8a23",
   "metadata": {},
   "outputs": [
    {
     "data": {
      "image/png": "[encoded data removed]",
      "text/plain": [
       "<Figure size 1080x720 with 9 Axes>"
      ]
     },
     "metadata": {
      "needs_background": "light"
     },
     "output_type": "display_data"
    }
   ],
   "source": [
    "df1.hist(column = 'price', by = 'clarity', alpha=0.5, color = 'pink', edgecolor='black', figsize = (15, 10))\n",
    "plt.show()"
   ]
  },
  {
   "cell_type": "code",
   "execution_count": 26,
   "id": "99506835",
   "metadata": {},
   "outputs": [
    {
     "data": {
      "text/plain": [
       "<AxesSubplot:xlabel='price', ylabel='Density'>"
      ]
     },
     "execution_count": 26,
     "metadata": {},
     "output_type": "execute_result"
    },
    {
     "data": {
      "image/png": "[encoded data removed]",
      "text/plain": [
       "<Figure size 432x288 with 1 Axes>"
      ]
     },
     "metadata": {
      "needs_background": "light"
     },
     "output_type": "display_data"
    }
   ],
   "source": [
    "sns.kdeplot(data=df1, x=\"price\", hue=\"cut\", multiple=\"stack\")"
   ]
  },
  {
   "cell_type": "code",
   "execution_count": 27,
   "id": "642a2e5d",
   "metadata": {},
   "outputs": [
    {
     "data": {
      "text/plain": [
       "<AxesSubplot:xlabel='price', ylabel='Density'>"
      ]
     },
     "execution_count": 27,
     "metadata": {},
     "output_type": "execute_result"
    },
    {
     "data": {
      "image/png": "[encoded data removed]",
      "text/plain": [
       "<Figure size 432x288 with 1 Axes>"
      ]
     },
     "metadata": {
      "needs_background": "light"
     },
     "output_type": "display_data"
    }
   ],
   "source": [
    "sns.kdeplot(data=df1, x=\"price\", hue=\"clarity\", multiple=\"stack\")"
   ]
  },
  {
   "cell_type": "code",
   "execution_count": 28,
   "id": "31482f2b",
   "metadata": {},
   "outputs": [],
   "source": [
    "# sns.kdeplot(\n",
    "#    data=df1, x=\"price\", hue=\"clarity\",\n",
    "#    fill=True, common_norm=False, palette=\"crest\",\n",
    "#    alpha=.5, linewidth=0,)"
   ]
  },
  {
   "cell_type": "code",
   "execution_count": 29,
   "id": "bd29693f",
   "metadata": {},
   "outputs": [
    {
     "data": {
      "text/plain": [
       "<AxesSubplot:xlabel='price', ylabel='Density'>"
      ]
     },
     "execution_count": 29,
     "metadata": {},
     "output_type": "execute_result"
    },
    {
     "data": {
      "image/png": "[encoded data removed]",
      "text/plain": [
       "<Figure size 432x288 with 1 Axes>"
      ]
     },
     "metadata": {
      "needs_background": "light"
     },
     "output_type": "display_data"
    }
   ],
   "source": [
    "sns.kdeplot(data=df1, x=\"price\", hue=\"clarity\")"
   ]
  },
  {
   "cell_type": "code",
   "execution_count": 30,
   "id": "4a85712f",
   "metadata": {},
   "outputs": [
    {
     "name": "stdout",
     "output_type": "stream",
     "text": [
      "                 price            \n",
      "                  mean    max  min\n",
      "cut                               \n",
      "Fair       4382.588462  18565  337\n",
      "Good       3926.928790  18707  327\n",
      "Ideal      3456.282041  18806  326\n",
      "Premium    4579.130779  18823  326\n",
      "Very Good  3981.830629  18818  336\n"
     ]
    }
   ],
   "source": [
    "df2 = df1.groupby('cut').agg({'price' : ['mean', 'max', 'min']})\n",
    "print(df2)"
   ]
  },
  {
   "cell_type": "code",
   "execution_count": 31,
   "id": "0e088e8d",
   "metadata": {},
   "outputs": [
    {
     "name": "stdout",
     "output_type": "stream",
     "text": [
      "             price            \n",
      "              mean    max  min\n",
      "color                         \n",
      "D      3169.238180  18693  357\n",
      "E      3077.917220  18731  326\n",
      "F      3724.381612  18791  342\n",
      "G      3995.868470  18818  354\n",
      "H      4479.933164  18803  337\n",
      "I      5090.387812  18823  334\n",
      "J      5327.503389  18710  335\n"
     ]
    }
   ],
   "source": [
    "df2 = df1.groupby('color').agg({'price' : ['mean', 'max', 'min']})\n",
    "print(df2)"
   ]
  },
  {
   "cell_type": "code",
   "execution_count": 32,
   "id": "6d81c9ab",
   "metadata": {},
   "outputs": [
    {
     "name": "stdout",
     "output_type": "stream",
     "text": [
      "               price            \n",
      "                mean    max  min\n",
      "clarity                         \n",
      "I1       3935.844567  18531  345\n",
      "IF       2865.788709  18806  369\n",
      "SI1      3992.412797  18818  326\n",
      "SI2      5061.879839  18804  326\n",
      "VS1      3838.436007  18795  327\n",
      "VS2      3923.603707  18823  334\n",
      "VVS1     2520.338171  18777  336\n",
      "VVS2     3285.099546  18768  336\n"
     ]
    }
   ],
   "source": [
    "df2 = df1.groupby('clarity').agg({'price' : ['mean', 'max', 'min']})\n",
    "print(df2)"
   ]
  },
  {
   "cell_type": "code",
   "execution_count": 33,
   "id": "fae87f18",
   "metadata": {},
   "outputs": [],
   "source": [
    "# g = sns.pairplot(df1, height = 3, aspect = 1, x_vars = ['length', 'width', 'depth', 'carat', 'depth_percent', 'table'], y_vars = ['price'], kind = 'reg')"
   ]
  },
  {
   "cell_type": "code",
   "execution_count": 34,
   "id": "68b23f35",
   "metadata": {
    "scrolled": false
   },
   "outputs": [],
   "source": [
    "# shade = ['#ff9999','#66b3ff','#99ff99','#ffcc99', '#ff6666']\n",
    "# sns.pairplot(df1, hue = 'cut', palette = shade, diag_kind=\"hist\")\n",
    "# plt.show()"
   ]
  },
  {
   "cell_type": "code",
   "execution_count": 35,
   "id": "5288de41",
   "metadata": {},
   "outputs": [
    {
     "data": {
      "image/png": "[encoded data removed]",
      "text/plain": [
       "<Figure size 720x432 with 2 Axes>"
      ]
     },
     "metadata": {
      "needs_background": "light"
     },
     "output_type": "display_data"
    }
   ],
   "source": [
    "plt.figure(figsize=(10, 6))\n",
    "sns.heatmap(df1.corr(), annot = True, cmap = 'Pastel2',  linewidths=1.5, linecolor='white')\n",
    "plt.show()"
   ]
  },
  {
   "cell_type": "markdown",
   "id": "a87a3594",
   "metadata": {},
   "source": [
    "#### Converting Categorical data into numerical"
   ]
  },
  {
   "cell_type": "code",
   "execution_count": 36,
   "id": "a7de7729",
   "metadata": {},
   "outputs": [],
   "source": [
    "cat_cols = ['cut', 'color', 'clarity']\n",
    "labelencoder_data = df1.copy()\n",
    "label_encoder = LabelEncoder()\n",
    "for col in cat_cols:\n",
    "    labelencoder_data[col] = label_encoder.fit_transform(labelencoder_data[col])"
   ]
  },
  {
   "cell_type": "markdown",
   "id": "c5191683",
   "metadata": {},
   "source": [
    "#### Segregate the Data"
   ]
  },
  {
   "cell_type": "code",
   "execution_count": 37,
   "id": "1f0dba1e",
   "metadata": {},
   "outputs": [],
   "source": [
    "X = labelencoder_data[['carat', 'depth_percent', 'cut', 'color', 'clarity', 'table', 'length', 'width', 'depth']]\n",
    "y = labelencoder_data[['price']]"
   ]
  },
  {
   "cell_type": "code",
   "execution_count": 38,
   "id": "009537da",
   "metadata": {},
   "outputs": [
    {
     "data": {
      "text/html": [
       "<div>\n",
       "<style scoped>\n",
       "    .dataframe tbody tr th:only-of-type {\n",
       "        vertical-align: middle;\n",
       "    }\n",
       "\n",
       "    .dataframe tbody tr th {\n",
       "        vertical-align: top;\n",
       "    }\n",
       "\n",
       "    .dataframe thead th {\n",
       "        text-align: right;\n",
       "    }\n",
       "</style>\n",
       "<table border=\"1\" class=\"dataframe\">\n",
       "  <thead>\n",
       "    <tr style=\"text-align: right;\">\n",
       "      <th></th>\n",
       "      <th>carat</th>\n",
       "      <th>depth_percent</th>\n",
       "      <th>cut</th>\n",
       "      <th>color</th>\n",
       "      <th>clarity</th>\n",
       "      <th>table</th>\n",
       "      <th>length</th>\n",
       "      <th>width</th>\n",
       "      <th>depth</th>\n",
       "    </tr>\n",
       "  </thead>\n",
       "  <tbody>\n",
       "    <tr>\n",
       "      <th>0</th>\n",
       "      <td>0.23</td>\n",
       "      <td>61.5</td>\n",
       "      <td>2</td>\n",
       "      <td>1</td>\n",
       "      <td>3</td>\n",
       "      <td>55.0</td>\n",
       "      <td>3.95</td>\n",
       "      <td>3.98</td>\n",
       "      <td>2.43</td>\n",
       "    </tr>\n",
       "    <tr>\n",
       "      <th>1</th>\n",
       "      <td>0.21</td>\n",
       "      <td>59.8</td>\n",
       "      <td>3</td>\n",
       "      <td>1</td>\n",
       "      <td>2</td>\n",
       "      <td>61.0</td>\n",
       "      <td>3.89</td>\n",
       "      <td>3.84</td>\n",
       "      <td>2.31</td>\n",
       "    </tr>\n",
       "    <tr>\n",
       "      <th>2</th>\n",
       "      <td>0.23</td>\n",
       "      <td>56.9</td>\n",
       "      <td>1</td>\n",
       "      <td>1</td>\n",
       "      <td>4</td>\n",
       "      <td>65.0</td>\n",
       "      <td>4.05</td>\n",
       "      <td>4.07</td>\n",
       "      <td>2.31</td>\n",
       "    </tr>\n",
       "    <tr>\n",
       "      <th>3</th>\n",
       "      <td>0.29</td>\n",
       "      <td>62.4</td>\n",
       "      <td>3</td>\n",
       "      <td>5</td>\n",
       "      <td>5</td>\n",
       "      <td>58.0</td>\n",
       "      <td>4.20</td>\n",
       "      <td>4.23</td>\n",
       "      <td>2.63</td>\n",
       "    </tr>\n",
       "    <tr>\n",
       "      <th>4</th>\n",
       "      <td>0.31</td>\n",
       "      <td>63.3</td>\n",
       "      <td>1</td>\n",
       "      <td>6</td>\n",
       "      <td>3</td>\n",
       "      <td>58.0</td>\n",
       "      <td>4.34</td>\n",
       "      <td>4.35</td>\n",
       "      <td>2.75</td>\n",
       "    </tr>\n",
       "  </tbody>\n",
       "</table>\n",
       "</div>"
      ],
      "text/plain": [
       "   carat  depth_percent  cut  color  clarity  table  length  width  depth\n",
       "0   0.23           61.5    2      1        3   55.0    3.95   3.98   2.43\n",
       "1   0.21           59.8    3      1        2   61.0    3.89   3.84   2.31\n",
       "2   0.23           56.9    1      1        4   65.0    4.05   4.07   2.31\n",
       "3   0.29           62.4    3      5        5   58.0    4.20   4.23   2.63\n",
       "4   0.31           63.3    1      6        3   58.0    4.34   4.35   2.75"
      ]
     },
     "execution_count": 38,
     "metadata": {},
     "output_type": "execute_result"
    }
   ],
   "source": [
    "X.head()"
   ]
  },
  {
   "cell_type": "code",
   "execution_count": 39,
   "id": "3ef52fc6",
   "metadata": {},
   "outputs": [
    {
     "data": {
      "text/html": [
       "<div>\n",
       "<style scoped>\n",
       "    .dataframe tbody tr th:only-of-type {\n",
       "        vertical-align: middle;\n",
       "    }\n",
       "\n",
       "    .dataframe tbody tr th {\n",
       "        vertical-align: top;\n",
       "    }\n",
       "\n",
       "    .dataframe thead th {\n",
       "        text-align: right;\n",
       "    }\n",
       "</style>\n",
       "<table border=\"1\" class=\"dataframe\">\n",
       "  <thead>\n",
       "    <tr style=\"text-align: right;\">\n",
       "      <th></th>\n",
       "      <th>price</th>\n",
       "    </tr>\n",
       "  </thead>\n",
       "  <tbody>\n",
       "    <tr>\n",
       "      <th>0</th>\n",
       "      <td>326</td>\n",
       "    </tr>\n",
       "    <tr>\n",
       "      <th>1</th>\n",
       "      <td>326</td>\n",
       "    </tr>\n",
       "    <tr>\n",
       "      <th>2</th>\n",
       "      <td>327</td>\n",
       "    </tr>\n",
       "    <tr>\n",
       "      <th>3</th>\n",
       "      <td>334</td>\n",
       "    </tr>\n",
       "    <tr>\n",
       "      <th>4</th>\n",
       "      <td>335</td>\n",
       "    </tr>\n",
       "  </tbody>\n",
       "</table>\n",
       "</div>"
      ],
      "text/plain": [
       "   price\n",
       "0    326\n",
       "1    326\n",
       "2    327\n",
       "3    334\n",
       "4    335"
      ]
     },
     "execution_count": 39,
     "metadata": {},
     "output_type": "execute_result"
    }
   ],
   "source": [
    "y.head()"
   ]
  },
  {
   "cell_type": "markdown",
   "id": "2758bd80",
   "metadata": {},
   "source": [
    "#### Splitting the Data into train-test dataset"
   ]
  },
  {
   "cell_type": "code",
   "execution_count": 40,
   "id": "bc21b7d3",
   "metadata": {},
   "outputs": [],
   "source": [
    "from sklearn.model_selection import train_test_split\n",
    "X_train, X_test, y_train, y_test = train_test_split(X, y, test_size = 0.25, random_state = 0)"
   ]
  },
  {
   "cell_type": "code",
   "execution_count": 41,
   "id": "2232e10e",
   "metadata": {},
   "outputs": [
    {
     "name": "stdout",
     "output_type": "stream",
     "text": [
      "X_train Shape:  (40397, 9)\n",
      "X_test Shape:  (13466, 9)\n",
      "y_train Shape:  (40397, 1)\n",
      "y_test Shape:  (13466, 1)\n"
     ]
    }
   ],
   "source": [
    "print('X_train Shape: ', X_train.shape)\n",
    "print('X_test Shape: ', X_test.shape)\n",
    "print('y_train Shape: ', y_train.shape)\n",
    "print('y_test Shape: ', y_test.shape)"
   ]
  },
  {
   "cell_type": "code",
   "execution_count": 42,
   "id": "dfc0c258",
   "metadata": {},
   "outputs": [
    {
     "data": {
      "text/html": [
       "<div>\n",
       "<style scoped>\n",
       "    .dataframe tbody tr th:only-of-type {\n",
       "        vertical-align: middle;\n",
       "    }\n",
       "\n",
       "    .dataframe tbody tr th {\n",
       "        vertical-align: top;\n",
       "    }\n",
       "\n",
       "    .dataframe thead th {\n",
       "        text-align: right;\n",
       "    }\n",
       "</style>\n",
       "<table border=\"1\" class=\"dataframe\">\n",
       "  <thead>\n",
       "    <tr style=\"text-align: right;\">\n",
       "      <th></th>\n",
       "      <th>carat</th>\n",
       "      <th>depth_percent</th>\n",
       "      <th>cut</th>\n",
       "      <th>color</th>\n",
       "      <th>clarity</th>\n",
       "      <th>table</th>\n",
       "      <th>length</th>\n",
       "      <th>width</th>\n",
       "      <th>depth</th>\n",
       "    </tr>\n",
       "  </thead>\n",
       "  <tbody>\n",
       "    <tr>\n",
       "      <th>43696</th>\n",
       "      <td>0.5</td>\n",
       "      <td>63.6</td>\n",
       "      <td>1</td>\n",
       "      <td>0</td>\n",
       "      <td>2</td>\n",
       "      <td>54.0</td>\n",
       "      <td>5.02</td>\n",
       "      <td>5.08</td>\n",
       "      <td>3.21</td>\n",
       "    </tr>\n",
       "    <tr>\n",
       "      <th>7880</th>\n",
       "      <td>0.9</td>\n",
       "      <td>63.3</td>\n",
       "      <td>4</td>\n",
       "      <td>3</td>\n",
       "      <td>5</td>\n",
       "      <td>54.0</td>\n",
       "      <td>6.19</td>\n",
       "      <td>6.11</td>\n",
       "      <td>3.89</td>\n",
       "    </tr>\n",
       "    <tr>\n",
       "      <th>53450</th>\n",
       "      <td>0.7</td>\n",
       "      <td>59.2</td>\n",
       "      <td>4</td>\n",
       "      <td>3</td>\n",
       "      <td>4</td>\n",
       "      <td>58.0</td>\n",
       "      <td>5.80</td>\n",
       "      <td>5.83</td>\n",
       "      <td>3.44</td>\n",
       "    </tr>\n",
       "  </tbody>\n",
       "</table>\n",
       "</div>"
      ],
      "text/plain": [
       "       carat  depth_percent  cut  color  clarity  table  length  width  depth\n",
       "43696    0.5           63.6    1      0        2   54.0    5.02   5.08   3.21\n",
       "7880     0.9           63.3    4      3        5   54.0    6.19   6.11   3.89\n",
       "53450    0.7           59.2    4      3        4   58.0    5.80   5.83   3.44"
      ]
     },
     "execution_count": 42,
     "metadata": {},
     "output_type": "execute_result"
    }
   ],
   "source": [
    "X_train.head(3)"
   ]
  },
  {
   "cell_type": "code",
   "execution_count": 43,
   "id": "d5a414eb",
   "metadata": {},
   "outputs": [],
   "source": [
    "X_train_num = X_train[['carat', 'depth_percent', 'table', 'length', 'width', 'depth']]"
   ]
  },
  {
   "cell_type": "code",
   "execution_count": 44,
   "id": "c980f196",
   "metadata": {},
   "outputs": [
    {
     "data": {
      "text/html": [
       "<div>\n",
       "<style scoped>\n",
       "    .dataframe tbody tr th:only-of-type {\n",
       "        vertical-align: middle;\n",
       "    }\n",
       "\n",
       "    .dataframe tbody tr th {\n",
       "        vertical-align: top;\n",
       "    }\n",
       "\n",
       "    .dataframe thead th {\n",
       "        text-align: right;\n",
       "    }\n",
       "</style>\n",
       "<table border=\"1\" class=\"dataframe\">\n",
       "  <thead>\n",
       "    <tr style=\"text-align: right;\">\n",
       "      <th></th>\n",
       "      <th>carat</th>\n",
       "      <th>depth_percent</th>\n",
       "      <th>table</th>\n",
       "      <th>length</th>\n",
       "      <th>width</th>\n",
       "      <th>depth</th>\n",
       "    </tr>\n",
       "  </thead>\n",
       "  <tbody>\n",
       "    <tr>\n",
       "      <th>43696</th>\n",
       "      <td>0.5</td>\n",
       "      <td>63.6</td>\n",
       "      <td>54.0</td>\n",
       "      <td>5.02</td>\n",
       "      <td>5.08</td>\n",
       "      <td>3.21</td>\n",
       "    </tr>\n",
       "    <tr>\n",
       "      <th>7880</th>\n",
       "      <td>0.9</td>\n",
       "      <td>63.3</td>\n",
       "      <td>54.0</td>\n",
       "      <td>6.19</td>\n",
       "      <td>6.11</td>\n",
       "      <td>3.89</td>\n",
       "    </tr>\n",
       "    <tr>\n",
       "      <th>53450</th>\n",
       "      <td>0.7</td>\n",
       "      <td>59.2</td>\n",
       "      <td>58.0</td>\n",
       "      <td>5.80</td>\n",
       "      <td>5.83</td>\n",
       "      <td>3.44</td>\n",
       "    </tr>\n",
       "  </tbody>\n",
       "</table>\n",
       "</div>"
      ],
      "text/plain": [
       "       carat  depth_percent  table  length  width  depth\n",
       "43696    0.5           63.6   54.0    5.02   5.08   3.21\n",
       "7880     0.9           63.3   54.0    6.19   6.11   3.89\n",
       "53450    0.7           59.2   58.0    5.80   5.83   3.44"
      ]
     },
     "execution_count": 44,
     "metadata": {},
     "output_type": "execute_result"
    }
   ],
   "source": [
    "X_train_num.head(3)"
   ]
  },
  {
   "cell_type": "code",
   "execution_count": 45,
   "id": "6ba005ae",
   "metadata": {},
   "outputs": [
    {
     "data": {
      "text/html": [
       "<div>\n",
       "<style scoped>\n",
       "    .dataframe tbody tr th:only-of-type {\n",
       "        vertical-align: middle;\n",
       "    }\n",
       "\n",
       "    .dataframe tbody tr th {\n",
       "        vertical-align: top;\n",
       "    }\n",
       "\n",
       "    .dataframe thead th {\n",
       "        text-align: right;\n",
       "    }\n",
       "</style>\n",
       "<table border=\"1\" class=\"dataframe\">\n",
       "  <thead>\n",
       "    <tr style=\"text-align: right;\">\n",
       "      <th></th>\n",
       "      <th>carat</th>\n",
       "      <th>depth_percent</th>\n",
       "      <th>cut</th>\n",
       "      <th>color</th>\n",
       "      <th>clarity</th>\n",
       "      <th>table</th>\n",
       "      <th>length</th>\n",
       "      <th>width</th>\n",
       "      <th>depth</th>\n",
       "    </tr>\n",
       "  </thead>\n",
       "  <tbody>\n",
       "    <tr>\n",
       "      <th>15318</th>\n",
       "      <td>1.22</td>\n",
       "      <td>60.6</td>\n",
       "      <td>3</td>\n",
       "      <td>5</td>\n",
       "      <td>5</td>\n",
       "      <td>58.0</td>\n",
       "      <td>6.93</td>\n",
       "      <td>6.89</td>\n",
       "      <td>4.19</td>\n",
       "    </tr>\n",
       "    <tr>\n",
       "      <th>18594</th>\n",
       "      <td>1.03</td>\n",
       "      <td>60.8</td>\n",
       "      <td>2</td>\n",
       "      <td>3</td>\n",
       "      <td>4</td>\n",
       "      <td>57.0</td>\n",
       "      <td>6.55</td>\n",
       "      <td>6.57</td>\n",
       "      <td>3.99</td>\n",
       "    </tr>\n",
       "    <tr>\n",
       "      <th>4946</th>\n",
       "      <td>1.01</td>\n",
       "      <td>62.4</td>\n",
       "      <td>2</td>\n",
       "      <td>2</td>\n",
       "      <td>3</td>\n",
       "      <td>56.0</td>\n",
       "      <td>6.44</td>\n",
       "      <td>6.38</td>\n",
       "      <td>4.00</td>\n",
       "    </tr>\n",
       "  </tbody>\n",
       "</table>\n",
       "</div>"
      ],
      "text/plain": [
       "       carat  depth_percent  cut  color  clarity  table  length  width  depth\n",
       "15318   1.22           60.6    3      5        5   58.0    6.93   6.89   4.19\n",
       "18594   1.03           60.8    2      3        4   57.0    6.55   6.57   3.99\n",
       "4946    1.01           62.4    2      2        3   56.0    6.44   6.38   4.00"
      ]
     },
     "execution_count": 45,
     "metadata": {},
     "output_type": "execute_result"
    }
   ],
   "source": [
    "X_test.head(3)"
   ]
  },
  {
   "cell_type": "code",
   "execution_count": 46,
   "id": "eaaba751",
   "metadata": {},
   "outputs": [],
   "source": [
    "X_test_num = X_test[['carat', 'depth_percent', 'table', 'length', 'width', 'depth']]"
   ]
  },
  {
   "cell_type": "markdown",
   "id": "a6a89ee9",
   "metadata": {},
   "source": [
    "#### Data Pre-Processing on Train Data"
   ]
  },
  {
   "cell_type": "code",
   "execution_count": 47,
   "id": "0af14196",
   "metadata": {},
   "outputs": [
    {
     "data": {
      "text/html": [
       "<div>\n",
       "<style scoped>\n",
       "    .dataframe tbody tr th:only-of-type {\n",
       "        vertical-align: middle;\n",
       "    }\n",
       "\n",
       "    .dataframe tbody tr th {\n",
       "        vertical-align: top;\n",
       "    }\n",
       "\n",
       "    .dataframe thead th {\n",
       "        text-align: right;\n",
       "    }\n",
       "</style>\n",
       "<table border=\"1\" class=\"dataframe\">\n",
       "  <thead>\n",
       "    <tr style=\"text-align: right;\">\n",
       "      <th></th>\n",
       "      <th>carat</th>\n",
       "      <th>depth_percent</th>\n",
       "      <th>table</th>\n",
       "      <th>length</th>\n",
       "      <th>width</th>\n",
       "      <th>depth</th>\n",
       "    </tr>\n",
       "  </thead>\n",
       "  <tbody>\n",
       "    <tr>\n",
       "      <th>43696</th>\n",
       "      <td>-0.626505</td>\n",
       "      <td>1.328828</td>\n",
       "      <td>-1.558819</td>\n",
       "      <td>-0.633312</td>\n",
       "      <td>-0.585417</td>\n",
       "      <td>-0.473654</td>\n",
       "    </tr>\n",
       "    <tr>\n",
       "      <th>7880</th>\n",
       "      <td>0.221404</td>\n",
       "      <td>1.113871</td>\n",
       "      <td>-1.558819</td>\n",
       "      <td>0.414308</td>\n",
       "      <td>0.343530</td>\n",
       "      <td>0.512677</td>\n",
       "    </tr>\n",
       "    <tr>\n",
       "      <th>53450</th>\n",
       "      <td>-0.202550</td>\n",
       "      <td>-1.823872</td>\n",
       "      <td>0.241747</td>\n",
       "      <td>0.065101</td>\n",
       "      <td>0.091001</td>\n",
       "      <td>-0.140042</td>\n",
       "    </tr>\n",
       "  </tbody>\n",
       "</table>\n",
       "</div>"
      ],
      "text/plain": [
       "          carat  depth_percent     table    length     width     depth\n",
       "43696 -0.626505       1.328828 -1.558819 -0.633312 -0.585417 -0.473654\n",
       "7880   0.221404       1.113871 -1.558819  0.414308  0.343530  0.512677\n",
       "53450 -0.202550      -1.823872  0.241747  0.065101  0.091001 -0.140042"
      ]
     },
     "execution_count": 47,
     "metadata": {},
     "output_type": "execute_result"
    }
   ],
   "source": [
    "# scaling the numerical features\n",
    "from sklearn.preprocessing import StandardScaler\n",
    "\n",
    "scaler = StandardScaler()\n",
    "X_train_num_rescaled = pd.DataFrame(scaler.fit_transform(X_train_num), \n",
    "                                    columns = X_train_num.columns, \n",
    "                                    index = X_train_num.index)\n",
    "\n",
    "X_train_num_rescaled.head(3)"
   ]
  },
  {
   "cell_type": "code",
   "execution_count": 48,
   "id": "53691ab2",
   "metadata": {},
   "outputs": [
    {
     "data": {
      "text/plain": [
       "(array([0.22254689, 1.94778067, 4.93516437, 1.24727944, 1.22939975,\n",
       "        0.4753048 ]),\n",
       " array([0.47174875, 1.39562913, 2.22152298, 1.11681665, 1.10878301,\n",
       "        0.68942352]))"
      ]
     },
     "execution_count": 48,
     "metadata": {},
     "output_type": "execute_result"
    }
   ],
   "source": [
    "scaler.var_, scaler.scale_"
   ]
  },
  {
   "cell_type": "code",
   "execution_count": 49,
   "id": "ab216aa7",
   "metadata": {},
   "outputs": [
    {
     "data": {
      "text/html": [
       "<div>\n",
       "<style scoped>\n",
       "    .dataframe tbody tr th:only-of-type {\n",
       "        vertical-align: middle;\n",
       "    }\n",
       "\n",
       "    .dataframe tbody tr th {\n",
       "        vertical-align: top;\n",
       "    }\n",
       "\n",
       "    .dataframe thead th {\n",
       "        text-align: right;\n",
       "    }\n",
       "</style>\n",
       "<table border=\"1\" class=\"dataframe\">\n",
       "  <thead>\n",
       "    <tr style=\"text-align: right;\">\n",
       "      <th></th>\n",
       "      <th>cut</th>\n",
       "      <th>color</th>\n",
       "      <th>clarity</th>\n",
       "    </tr>\n",
       "  </thead>\n",
       "  <tbody>\n",
       "    <tr>\n",
       "      <th>43696</th>\n",
       "      <td>1</td>\n",
       "      <td>0</td>\n",
       "      <td>2</td>\n",
       "    </tr>\n",
       "    <tr>\n",
       "      <th>7880</th>\n",
       "      <td>4</td>\n",
       "      <td>3</td>\n",
       "      <td>5</td>\n",
       "    </tr>\n",
       "    <tr>\n",
       "      <th>53450</th>\n",
       "      <td>4</td>\n",
       "      <td>3</td>\n",
       "      <td>4</td>\n",
       "    </tr>\n",
       "  </tbody>\n",
       "</table>\n",
       "</div>"
      ],
      "text/plain": [
       "       cut  color  clarity\n",
       "43696    1      0        2\n",
       "7880     4      3        5\n",
       "53450    4      3        4"
      ]
     },
     "execution_count": 49,
     "metadata": {},
     "output_type": "execute_result"
    }
   ],
   "source": [
    "X_train_cat= X_train[['cut', 'color', 'clarity']]\n",
    "X_train_cat.head(3)"
   ]
  },
  {
   "cell_type": "code",
   "execution_count": 50,
   "id": "128f98d2",
   "metadata": {
    "scrolled": true
   },
   "outputs": [
    {
     "data": {
      "text/html": [
       "<div>\n",
       "<style scoped>\n",
       "    .dataframe tbody tr th:only-of-type {\n",
       "        vertical-align: middle;\n",
       "    }\n",
       "\n",
       "    .dataframe tbody tr th {\n",
       "        vertical-align: top;\n",
       "    }\n",
       "\n",
       "    .dataframe thead th {\n",
       "        text-align: right;\n",
       "    }\n",
       "</style>\n",
       "<table border=\"1\" class=\"dataframe\">\n",
       "  <thead>\n",
       "    <tr style=\"text-align: right;\">\n",
       "      <th></th>\n",
       "      <th>carat</th>\n",
       "      <th>depth_percent</th>\n",
       "      <th>table</th>\n",
       "      <th>length</th>\n",
       "      <th>width</th>\n",
       "      <th>depth</th>\n",
       "      <th>cut</th>\n",
       "      <th>color</th>\n",
       "      <th>clarity</th>\n",
       "    </tr>\n",
       "  </thead>\n",
       "  <tbody>\n",
       "    <tr>\n",
       "      <th>43696</th>\n",
       "      <td>-0.626505</td>\n",
       "      <td>1.328828</td>\n",
       "      <td>-1.558819</td>\n",
       "      <td>-0.633312</td>\n",
       "      <td>-0.585417</td>\n",
       "      <td>-0.473654</td>\n",
       "      <td>1</td>\n",
       "      <td>0</td>\n",
       "      <td>2</td>\n",
       "    </tr>\n",
       "    <tr>\n",
       "      <th>7880</th>\n",
       "      <td>0.221404</td>\n",
       "      <td>1.113871</td>\n",
       "      <td>-1.558819</td>\n",
       "      <td>0.414308</td>\n",
       "      <td>0.343530</td>\n",
       "      <td>0.512677</td>\n",
       "      <td>4</td>\n",
       "      <td>3</td>\n",
       "      <td>5</td>\n",
       "    </tr>\n",
       "    <tr>\n",
       "      <th>53450</th>\n",
       "      <td>-0.202550</td>\n",
       "      <td>-1.823872</td>\n",
       "      <td>0.241747</td>\n",
       "      <td>0.065101</td>\n",
       "      <td>0.091001</td>\n",
       "      <td>-0.140042</td>\n",
       "      <td>4</td>\n",
       "      <td>3</td>\n",
       "      <td>4</td>\n",
       "    </tr>\n",
       "  </tbody>\n",
       "</table>\n",
       "</div>"
      ],
      "text/plain": [
       "          carat  depth_percent     table    length     width     depth  cut  \\\n",
       "43696 -0.626505       1.328828 -1.558819 -0.633312 -0.585417 -0.473654    1   \n",
       "7880   0.221404       1.113871 -1.558819  0.414308  0.343530  0.512677    4   \n",
       "53450 -0.202550      -1.823872  0.241747  0.065101  0.091001 -0.140042    4   \n",
       "\n",
       "       color  clarity  \n",
       "43696      0        2  \n",
       "7880       3        5  \n",
       "53450      3        4  "
      ]
     },
     "execution_count": 50,
     "metadata": {},
     "output_type": "execute_result"
    }
   ],
   "source": [
    "X_train_rescaled = pd.concat([X_train_num_rescaled, X_train_cat], axis = 1)\n",
    "X_train_rescaled.head(3)"
   ]
  },
  {
   "cell_type": "code",
   "execution_count": 51,
   "id": "e19a4f72",
   "metadata": {},
   "outputs": [
    {
     "data": {
      "text/plain": [
       "(40397, 9)"
      ]
     },
     "execution_count": 51,
     "metadata": {},
     "output_type": "execute_result"
    }
   ],
   "source": [
    "X_train_rescaled.shape"
   ]
  },
  {
   "cell_type": "markdown",
   "id": "0b896c97",
   "metadata": {},
   "source": [
    "#### Preparing Test Data"
   ]
  },
  {
   "cell_type": "code",
   "execution_count": 52,
   "id": "525e0d3f",
   "metadata": {},
   "outputs": [
    {
     "data": {
      "text/html": [
       "<div>\n",
       "<style scoped>\n",
       "    .dataframe tbody tr th:only-of-type {\n",
       "        vertical-align: middle;\n",
       "    }\n",
       "\n",
       "    .dataframe tbody tr th {\n",
       "        vertical-align: top;\n",
       "    }\n",
       "\n",
       "    .dataframe thead th {\n",
       "        text-align: right;\n",
       "    }\n",
       "</style>\n",
       "<table border=\"1\" class=\"dataframe\">\n",
       "  <thead>\n",
       "    <tr style=\"text-align: right;\">\n",
       "      <th></th>\n",
       "      <th>carat</th>\n",
       "      <th>depth_percent</th>\n",
       "      <th>table</th>\n",
       "      <th>length</th>\n",
       "      <th>width</th>\n",
       "      <th>depth</th>\n",
       "    </tr>\n",
       "  </thead>\n",
       "  <tbody>\n",
       "    <tr>\n",
       "      <th>15318</th>\n",
       "      <td>0.899731</td>\n",
       "      <td>-0.820740</td>\n",
       "      <td>0.241747</td>\n",
       "      <td>1.076906</td>\n",
       "      <td>1.047004</td>\n",
       "      <td>0.947823</td>\n",
       "    </tr>\n",
       "    <tr>\n",
       "      <th>18594</th>\n",
       "      <td>0.496975</td>\n",
       "      <td>-0.677436</td>\n",
       "      <td>-0.208394</td>\n",
       "      <td>0.736653</td>\n",
       "      <td>0.758399</td>\n",
       "      <td>0.657726</td>\n",
       "    </tr>\n",
       "    <tr>\n",
       "      <th>4946</th>\n",
       "      <td>0.454579</td>\n",
       "      <td>0.469001</td>\n",
       "      <td>-0.658536</td>\n",
       "      <td>0.638159</td>\n",
       "      <td>0.587040</td>\n",
       "      <td>0.672230</td>\n",
       "    </tr>\n",
       "  </tbody>\n",
       "</table>\n",
       "</div>"
      ],
      "text/plain": [
       "          carat  depth_percent     table    length     width     depth\n",
       "15318  0.899731      -0.820740  0.241747  1.076906  1.047004  0.947823\n",
       "18594  0.496975      -0.677436 -0.208394  0.736653  0.758399  0.657726\n",
       "4946   0.454579       0.469001 -0.658536  0.638159  0.587040  0.672230"
      ]
     },
     "execution_count": 52,
     "metadata": {},
     "output_type": "execute_result"
    }
   ],
   "source": [
    "X_test_num_rescaled = pd.DataFrame(scaler.transform(X_test_num), \n",
    "                                   columns = X_test_num.columns, \n",
    "                                   index = X_test_num.index)\n",
    "\n",
    "X_test_num_rescaled.head(3)"
   ]
  },
  {
   "cell_type": "code",
   "execution_count": 53,
   "id": "ade9c0b8",
   "metadata": {},
   "outputs": [
    {
     "data": {
      "text/html": [
       "<div>\n",
       "<style scoped>\n",
       "    .dataframe tbody tr th:only-of-type {\n",
       "        vertical-align: middle;\n",
       "    }\n",
       "\n",
       "    .dataframe tbody tr th {\n",
       "        vertical-align: top;\n",
       "    }\n",
       "\n",
       "    .dataframe thead th {\n",
       "        text-align: right;\n",
       "    }\n",
       "</style>\n",
       "<table border=\"1\" class=\"dataframe\">\n",
       "  <thead>\n",
       "    <tr style=\"text-align: right;\">\n",
       "      <th></th>\n",
       "      <th>cut</th>\n",
       "      <th>color</th>\n",
       "      <th>clarity</th>\n",
       "    </tr>\n",
       "  </thead>\n",
       "  <tbody>\n",
       "    <tr>\n",
       "      <th>15318</th>\n",
       "      <td>3</td>\n",
       "      <td>5</td>\n",
       "      <td>5</td>\n",
       "    </tr>\n",
       "    <tr>\n",
       "      <th>18594</th>\n",
       "      <td>2</td>\n",
       "      <td>3</td>\n",
       "      <td>4</td>\n",
       "    </tr>\n",
       "    <tr>\n",
       "      <th>4946</th>\n",
       "      <td>2</td>\n",
       "      <td>2</td>\n",
       "      <td>3</td>\n",
       "    </tr>\n",
       "  </tbody>\n",
       "</table>\n",
       "</div>"
      ],
      "text/plain": [
       "       cut  color  clarity\n",
       "15318    3      5        5\n",
       "18594    2      3        4\n",
       "4946     2      2        3"
      ]
     },
     "execution_count": 53,
     "metadata": {},
     "output_type": "execute_result"
    }
   ],
   "source": [
    "X_test_cat= X_test[['cut', 'color', 'clarity']]\n",
    "X_test_cat.head(3)"
   ]
  },
  {
   "cell_type": "code",
   "execution_count": 54,
   "id": "570da0bb",
   "metadata": {},
   "outputs": [
    {
     "data": {
      "text/html": [
       "<div>\n",
       "<style scoped>\n",
       "    .dataframe tbody tr th:only-of-type {\n",
       "        vertical-align: middle;\n",
       "    }\n",
       "\n",
       "    .dataframe tbody tr th {\n",
       "        vertical-align: top;\n",
       "    }\n",
       "\n",
       "    .dataframe thead th {\n",
       "        text-align: right;\n",
       "    }\n",
       "</style>\n",
       "<table border=\"1\" class=\"dataframe\">\n",
       "  <thead>\n",
       "    <tr style=\"text-align: right;\">\n",
       "      <th></th>\n",
       "      <th>carat</th>\n",
       "      <th>depth_percent</th>\n",
       "      <th>table</th>\n",
       "      <th>length</th>\n",
       "      <th>width</th>\n",
       "      <th>depth</th>\n",
       "      <th>cut</th>\n",
       "      <th>color</th>\n",
       "      <th>clarity</th>\n",
       "    </tr>\n",
       "  </thead>\n",
       "  <tbody>\n",
       "    <tr>\n",
       "      <th>15318</th>\n",
       "      <td>0.899731</td>\n",
       "      <td>-0.820740</td>\n",
       "      <td>0.241747</td>\n",
       "      <td>1.076906</td>\n",
       "      <td>1.047004</td>\n",
       "      <td>0.947823</td>\n",
       "      <td>3</td>\n",
       "      <td>5</td>\n",
       "      <td>5</td>\n",
       "    </tr>\n",
       "    <tr>\n",
       "      <th>18594</th>\n",
       "      <td>0.496975</td>\n",
       "      <td>-0.677436</td>\n",
       "      <td>-0.208394</td>\n",
       "      <td>0.736653</td>\n",
       "      <td>0.758399</td>\n",
       "      <td>0.657726</td>\n",
       "      <td>2</td>\n",
       "      <td>3</td>\n",
       "      <td>4</td>\n",
       "    </tr>\n",
       "    <tr>\n",
       "      <th>4946</th>\n",
       "      <td>0.454579</td>\n",
       "      <td>0.469001</td>\n",
       "      <td>-0.658536</td>\n",
       "      <td>0.638159</td>\n",
       "      <td>0.587040</td>\n",
       "      <td>0.672230</td>\n",
       "      <td>2</td>\n",
       "      <td>2</td>\n",
       "      <td>3</td>\n",
       "    </tr>\n",
       "  </tbody>\n",
       "</table>\n",
       "</div>"
      ],
      "text/plain": [
       "          carat  depth_percent     table    length     width     depth  cut  \\\n",
       "15318  0.899731      -0.820740  0.241747  1.076906  1.047004  0.947823    3   \n",
       "18594  0.496975      -0.677436 -0.208394  0.736653  0.758399  0.657726    2   \n",
       "4946   0.454579       0.469001 -0.658536  0.638159  0.587040  0.672230    2   \n",
       "\n",
       "       color  clarity  \n",
       "15318      5        5  \n",
       "18594      3        4  \n",
       "4946       2        3  "
      ]
     },
     "execution_count": 54,
     "metadata": {},
     "output_type": "execute_result"
    }
   ],
   "source": [
    "X_test_rescaled = pd.concat([X_test_num_rescaled, X_test_cat], axis = 1)\n",
    "X_test_rescaled.head(3)"
   ]
  },
  {
   "cell_type": "markdown",
   "id": "71f0bbf2",
   "metadata": {},
   "source": [
    "#### Model Building"
   ]
  },
  {
   "cell_type": "markdown",
   "id": "ba4c43a0",
   "metadata": {},
   "source": [
    "1. Linear Regression"
   ]
  },
  {
   "cell_type": "code",
   "execution_count": 55,
   "id": "b2cdb3a6",
   "metadata": {},
   "outputs": [
    {
     "name": "stdout",
     "output_type": "stream",
     "text": [
      "R2 Score:  0.8822213811505146\n",
      "Mean Absolute Error:  855.8089401506037\n",
      "Mean Squared Error:  1902001.038877645\n",
      "Root Mean Squared Error:  1379.130537287042\n"
     ]
    }
   ],
   "source": [
    "linear_regressor = LinearRegression()\n",
    "linear_regressor.fit(X_train_rescaled, y_train)\n",
    "\n",
    "y_test_pred = linear_regressor.predict(X_test_rescaled)\n",
    "\n",
    "print(\"R2 Score: \" , metrics.r2_score(y_test, y_test_pred))\n",
    "print('Mean Absolute Error: ', metrics.mean_absolute_error(y_test, y_test_pred))\n",
    "print('Mean Squared Error: ', metrics.mean_squared_error(y_test, y_test_pred))\n",
    "print(\"Root Mean Squared Error: \" , np.sqrt(metrics.mean_squared_error(y_test, y_test_pred)))"
   ]
  },
  {
   "cell_type": "markdown",
   "id": "d8d02af8",
   "metadata": {},
   "source": [
    "2. KNN Regressor"
   ]
  },
  {
   "cell_type": "code",
   "execution_count": 56,
   "id": "cdf99162",
   "metadata": {},
   "outputs": [
    {
     "name": "stdout",
     "output_type": "stream",
     "text": [
      "R2 Score:  0.9660722367561554\n",
      "Mean Absolute Error:  393.2156393880885\n",
      "Mean Squared Error:  547897.7556958266\n",
      "Root Mean Squared Error:  740.2011589398024\n"
     ]
    }
   ],
   "source": [
    "knn_regressor = KNeighborsRegressor()\n",
    "knn_regressor.fit(X_train_rescaled, y_train)\n",
    "\n",
    "y_test_pred = knn_regressor.predict(X_test_rescaled)\n",
    "\n",
    "print(\"R2 Score: \" , metrics.r2_score(y_test, y_test_pred))\n",
    "print('Mean Absolute Error: ', metrics.mean_absolute_error(y_test, y_test_pred))\n",
    "print('Mean Squared Error: ', metrics.mean_squared_error(y_test, y_test_pred))\n",
    "print(\"Root Mean Squared Error: \" , np.sqrt(metrics.mean_squared_error(y_test, y_test_pred)))"
   ]
  },
  {
   "cell_type": "markdown",
   "id": "26ada0e3",
   "metadata": {},
   "source": [
    "3. Decision Tree"
   ]
  },
  {
   "cell_type": "code",
   "execution_count": 57,
   "id": "205215d2",
   "metadata": {},
   "outputs": [
    {
     "name": "stdout",
     "output_type": "stream",
     "text": [
      "R2 Score:  0.880212883938875\n",
      "Mean Absolute Error:  782.1603180804827\n",
      "Mean Squared Error:  1934436.1601283324\n",
      "Root Mean Squared Error:  1390.8400915016553\n"
     ]
    }
   ],
   "source": [
    "dt_regressor = DecisionTreeRegressor(max_depth = 3)\n",
    "dt_regressor.fit(X_train_rescaled, y_train)\n",
    "\n",
    "y_test_pred = dt_regressor.predict(X_test_rescaled)\n",
    "\n",
    "print(\"R2 Score: \" , metrics.r2_score(y_test, y_test_pred))\n",
    "print('Mean Absolute Error: ', metrics.mean_absolute_error(y_test, y_test_pred))\n",
    "print('Mean Squared Error: ', metrics.mean_squared_error(y_test, y_test_pred))\n",
    "print(\"Root Mean Squared Error: \" , np.sqrt(metrics.mean_squared_error(y_test, y_test_pred)))"
   ]
  },
  {
   "cell_type": "code",
   "execution_count": 58,
   "id": "f82c4f03",
   "metadata": {},
   "outputs": [],
   "source": [
    "# 4. Random Forest Regression"
   ]
  },
  {
   "cell_type": "code",
   "execution_count": 59,
   "id": "cc71619f",
   "metadata": {},
   "outputs": [],
   "source": [
    "# rf_regressor = RandomForestRegressor()\n",
    "# rf_regressor.fit(X_train_rescaled, y_train)\n",
    "\n",
    "# y_test_pred = rf_regressor.predict(X_test_rescaled)\n",
    "\n",
    "# print(\"R2 Score: \" , metrics.r2_score(y_test, y_test_pred))\n",
    "# print('Mean Absolute Error: ', metrics.mean_absolute_error(y_test, y_test_pred))\n",
    "# print('Mean Squared Error: ', metrics.mean_squared_error(y_test, y_test_pred))\n",
    "# print(\"Root Mean Squared Error: \" , np.sqrt(metrics.mean_squared_error(y_test, y_test_pred)))"
   ]
  },
  {
   "cell_type": "markdown",
   "id": "a1b53457",
   "metadata": {},
   "source": [
    "#### Saving Models: Serialization"
   ]
  },
  {
   "cell_type": "code",
   "execution_count": 60,
   "id": "fed3b9ee",
   "metadata": {},
   "outputs": [],
   "source": [
    "from pickle import dump\n",
    "\n",
    "dump(label_encoder, open(r'F:\\Priya\\Courses\\Innomatics\\ML amd MLOPs Tasks\\Task 1 MLOPs\\models\\label_encoder.pkl', 'wb'))\n",
    "dump(scaler, open(r'F:\\Priya\\Courses\\Innomatics\\ML amd MLOPs Tasks\\Task 1 MLOPs\\models\\standard_scaler.pkl', 'wb'))\n",
    "\n",
    "dump(linear_regressor, open(r'F:\\Priya\\Courses\\Innomatics\\ML amd MLOPs Tasks\\Task 1 MLOPs\\models\\lr_model.pkl', 'wb'))\n",
    "dump(knn_regressor, open(r'F:\\Priya\\Courses\\Innomatics\\ML amd MLOPs Tasks\\Task 1 MLOPs\\models\\knn_model.pkl', 'wb'))\n",
    "dump(dt_regressor, open(r'F:\\Priya\\Courses\\Innomatics\\ML amd MLOPs Tasks\\Task 1 MLOPs\\models\\dt_model.pkl', 'wb'))\n",
    "# dump(rf_regressor, open(r'F:\\Priya\\Courses\\Innomatics\\ML amd MLOPs Tasks\\Task 1 MLOPs\\models\\rf_model.pkl', 'wb'))"
   ]
  },
  {
   "cell_type": "code",
   "execution_count": 61,
   "id": "cd7f9bbe",
   "metadata": {},
   "outputs": [],
   "source": [
    "#### Productionisation: Deserialization"
   ]
  },
  {
   "cell_type": "code",
   "execution_count": 62,
   "id": "61ae7362",
   "metadata": {},
   "outputs": [],
   "source": [
    "# from pickle import load\n",
    "\n",
    "# label_encoder = load(open(r'models\\label_encoder.pkl', 'rb'))\n",
    "# scaler = load(open(r'models\\standard_scaler.pkl', 'rb'))\n",
    "\n",
    "# linear_regressor = load(open(r'F:\\Priya\\Courses\\Innomatics\\ML amd MLOPs Tasks\\Task 1 MLOPs\\models\\lr_model.pkl', 'rb'))\n",
    "# knn_regressor = load(open(r'F:\\Priya\\Courses\\Innomatics\\ML amd MLOPs Tasks\\Task 1 MLOPs\\models\\knn_model.pkl', 'rb'))\n",
    "# dt_regressor = load(open(r'F:\\Priya\\Courses\\Innomatics\\ML amd MLOPs Tasks\\Task 1 MLOPs\\models\\dt_model.pkl', 'rb'))\n",
    "# rf_regressor = load(open(r'F:\\Priya\\Courses\\Innomatics\\ML amd MLOPs Tasks\\Task 1 MLOPs\\models\\rf_model.pkl', 'rb'))"
   ]
  }
 ],
 "metadata": {
  "kernelspec": {
   "display_name": "Python 3 (ipykernel)",
   "language": "python",
   "name": "python3"
  },
  "language_info": {
   "codemirror_mode": {
    "name": "ipython",
    "version": 3
   },
   "file_extension": ".py",
   "mimetype": "text/x-python",
   "name": "python",
   "nbconvert_exporter": "python",
   "pygments_lexer": "ipython3",
   "version": "3.9.7"
  }
 },
 "nbformat": 4,
 "nbformat_minor": 5
}
