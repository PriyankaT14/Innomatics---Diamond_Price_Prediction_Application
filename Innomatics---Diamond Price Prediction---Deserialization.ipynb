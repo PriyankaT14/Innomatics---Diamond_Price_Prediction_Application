{
 "cells": [
  {
   "cell_type": "markdown",
   "id": "a04df9a6",
   "metadata": {},
   "source": [
    "#### Productionisation: Deserialization"
   ]
  },
  {
   "cell_type": "code",
   "execution_count": 1,
   "id": "fe5901d1",
   "metadata": {},
   "outputs": [],
   "source": [
    "import numpy as np"
   ]
  },
  {
   "cell_type": "code",
   "execution_count": 2,
   "id": "5b377b98",
   "metadata": {},
   "outputs": [],
   "source": [
    "from pickle import load\n",
    "\n",
    "label_encoder = load(open(r'F:\\Priya\\Courses\\Innomatics\\ML amd MLOPs Tasks\\Task 1 MLOPs\\models\\label_encoder.pkl', 'rb'))\n",
    "scaler = load(open(r'F:\\Priya\\Courses\\Innomatics\\ML amd MLOPs Tasks\\Task 1 MLOPs\\models\\standard_scaler.pkl', 'rb'))\n",
    "\n",
    "linear_regressor = load(open(r'F:\\Priya\\Courses\\Innomatics\\ML amd MLOPs Tasks\\Task 1 MLOPs\\models\\lr_model.pkl', 'rb'))\n",
    "knn_regressor = load(open(r'F:\\Priya\\Courses\\Innomatics\\ML amd MLOPs Tasks\\Task 1 MLOPs\\models\\knn_model.pkl', 'rb'))\n",
    "dt_regressor = load(open(r'F:\\Priya\\Courses\\Innomatics\\ML amd MLOPs Tasks\\Task 1 MLOPs\\models\\dt_model.pkl', 'rb'))\n",
    "# rf_regressor = load(open(r'F:\\Priya\\Courses\\Innomatics\\ML amd MLOPs Tasks\\Task 1 MLOPs\\models\\rf_model.pkl', 'rb'))"
   ]
  },
  {
   "cell_type": "code",
   "execution_count": 3,
   "id": "1b689dd7",
   "metadata": {},
   "outputs": [
    {
     "name": "stdout",
     "output_type": "stream",
     "text": [
      "Enter Diamond Details: \n",
      "Enter Diamond Carat Details: 0.22\n",
      "Enter Diamond Depth Percent Details: 55\n",
      "Enter Diamond Table Details: 66\n",
      "Enter Diamond Cut Details: \n",
      " Fair : 1 \n",
      " Good : 2 \n",
      " Very Good : 3 \n",
      " Ideal : 4 \n",
      " Premium : 5\n",
      "Enter Diamond Cut Details: 3\n",
      "Enter Diamond Color Details: \n",
      " J :1 \n",
      " I :2 \n",
      " H :3 \n",
      " G :4 \n",
      " F :5 \n",
      " E :6 \n",
      " D :7\n",
      "Enter Diamond Color Details: 7\n",
      "Enter Diamond Clarity Details: \n",
      " I1 :1 \n",
      " SI2 :2 \n",
      " SI1 :3 \n",
      " VS2 :4 \n",
      " VS1 :5 \n",
      " VVS2 :6 \n",
      " VVS1 :7 \n",
      " IF :8\n",
      "Enter Diamond Clarity Details: 7\n",
      "Enter Diamond Length Details: 4.34\n",
      "Enter Diamond Width Details: 4.23\n",
      "Enter Diamond Depth Details: 2.63\n"
     ]
    }
   ],
   "source": [
    "print('Enter Diamond Details: ' )\n",
    "\n",
    "Carat = float(input('Enter Diamond Carat Details: ' ))\n",
    "Depth_Percent = float(input('Enter Diamond Depth Percent Details: ' ))\n",
    "Table = float(input('Enter Diamond Table Details: ' ))\n",
    "\n",
    "print('Enter Diamond Cut Details: \\n Fair : 1 \\n Good : 2 \\n Very Good : 3 \\n Ideal : 4 \\n Premium : 5')\n",
    "Cut = int(input('Enter Diamond Cut Details: ' ))\n",
    "\n",
    "print('Enter Diamond Color Details: \\n J :1 \\n I :2 \\n H :3 \\n G :4 \\n F :5 \\n E :6 \\n D :7')\n",
    "Color = int(input('Enter Diamond Color Details: ' ))\n",
    "\n",
    "print('Enter Diamond Clarity Details: \\n I1 :1 \\n SI2 :2 \\n SI1 :3 \\n VS2 :4 \\n VS1 :5 \\n VVS2 :6 \\n VVS1 :7 \\n IF :8')\n",
    "Clarity = int(input('Enter Diamond Clarity Details: ' ))\n",
    "\n",
    "Length = float(input('Enter Diamond Length Details: ' ))\n",
    "Width = float(input('Enter Diamond Width Details: ' ))\n",
    "Depth = float(input('Enter Diamond Depth Details: ' ))"
   ]
  },
  {
   "cell_type": "code",
   "execution_count": 4,
   "id": "9da22071",
   "metadata": {},
   "outputs": [
    {
     "name": "stderr",
     "output_type": "stream",
     "text": [
      "C:\\Users\\praja\\anaconda3\\lib\\site-packages\\sklearn\\base.py:439: UserWarning: X does not have valid feature names, but StandardScaler was fitted with feature names\n",
      "  warnings.warn(\n"
     ]
    },
    {
     "data": {
      "text/plain": [
       "array([[-1.22004114, -4.8332675 ,  3.84288048, -1.24218586, -1.35202283,\n",
       "        -1.31493701]])"
      ]
     },
     "execution_count": 4,
     "metadata": {},
     "output_type": "execute_result"
    }
   ],
   "source": [
    "diamond_details = np.array([Carat, Depth_Percent, Table, Length, Width, Depth])\n",
    "lable_encoder_cols = np.array([Cut, Color, Clarity])\n",
    "\n",
    "diamond_details = diamond_details.reshape(1, -1)\n",
    "lable_encoder_cols = lable_encoder_cols.reshape(1, -1)\n",
    "\n",
    "diamond_details_transformed = scaler.transform(diamond_details)\n",
    "diamond_details_transformed"
   ]
  },
  {
   "cell_type": "code",
   "execution_count": 5,
   "id": "2ef3535c",
   "metadata": {},
   "outputs": [],
   "source": [
    "query_point = np.concatenate((diamond_details_transformed, lable_encoder_cols), axis = 1)"
   ]
  },
  {
   "cell_type": "code",
   "execution_count": 6,
   "id": "d079dee4",
   "metadata": {},
   "outputs": [
    {
     "name": "stderr",
     "output_type": "stream",
     "text": [
      "C:\\Users\\praja\\anaconda3\\lib\\site-packages\\sklearn\\base.py:439: UserWarning: X does not have valid feature names, but KNeighborsRegressor was fitted with feature names\n",
      "  warnings.warn(\n"
     ]
    },
    {
     "data": {
      "text/plain": [
       "array([[949.6]])"
      ]
     },
     "execution_count": 6,
     "metadata": {},
     "output_type": "execute_result"
    }
   ],
   "source": [
    "knn_regressor.predict(query_point)"
   ]
  },
  {
   "cell_type": "code",
   "execution_count": null,
   "id": "9596c0b9",
   "metadata": {},
   "outputs": [],
   "source": []
  }
 ],
 "metadata": {
  "kernelspec": {
   "display_name": "Python 3 (ipykernel)",
   "language": "python",
   "name": "python3"
  },
  "language_info": {
   "codemirror_mode": {
    "name": "ipython",
    "version": 3
   },
   "file_extension": ".py",
   "mimetype": "text/x-python",
   "name": "python",
   "nbconvert_exporter": "python",
   "pygments_lexer": "ipython3",
   "version": "3.9.7"
  }
 },
 "nbformat": 4,
 "nbformat_minor": 5
}
